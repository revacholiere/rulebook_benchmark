{
 "cells": [
  {
   "cell_type": "code",
   "execution_count": 1,
   "id": "6dcb945a",
   "metadata": {},
   "outputs": [
    {
     "name": "stderr",
     "output_type": "stream",
     "text": [
      "/Users/ekin/Scenic/src/scenic/core/errors.py:271: UserWarning: unable to install sys.excepthook to format Scenic backtraces\n",
      "  warnings.warn(\"unable to install sys.excepthook to format Scenic backtraces\")\n"
     ]
    },
    {
     "data": {
      "text/plain": [
       "'\\n# First loop: parse and process trajectories, store them in a list\\ntrajectories = []\\ntrajectory_files = [f for f in os.listdir(trajectory_directory) if f.endswith(\\'.json\\')]\\npbar = tqdm(total=len(trajectory_files), leave=False)\\nfor filename in trajectory_files:\\n    traj_path = os.path.join(trajectory_directory, filename)\\n    if filename.startswith(\\'U\\'):\\n        pbar.set_description(f\"Parsing and processing trajectory {filename} on map U\")\\n        realization = parse_trajectory(traj_path, step_size=100000)\\n        realization.network = network_U\\n    else:\\n        pbar.set_description(f\"Parsing and processing trajectory {filename} on map S\")\\n        realization = parse_trajectory(traj_path, step_size=100000)\\n        realization.network = network_S\\n    #process_trajectory(realization)\\n    trajectories.append((filename, realization))\\n    pbar.update(1)\\npbar.close()\\n\\n\\n'"
      ]
     },
     "execution_count": 1,
     "metadata": {},
     "output_type": "execute_result"
    }
   ],
   "source": [
    "import sys\n",
    "import os\n",
    "import json\n",
    "sys.path.append(os.path.abspath(\"..\"))\n",
    "from reasonable_crowd.parse_trajectory import parse_trajectory\n",
    "from reasonable_crowd.parse_map import parse_map\n",
    "from rulebook_benchmark.process_trajectory import process_trajectory\n",
    "\n",
    "from concurrent.futures import ThreadPoolExecutor, as_completed\n",
    "import os\n",
    "from tqdm import tqdm\n",
    "\n",
    "from rulebook_benchmark.rulebook import Relation\n",
    "from tqdm.notebook import tqdm\n",
    "import cProfile, pstats\n",
    "path_to_reasonable_crowd = \"../../../Reasonable-Crowd\"\n",
    "map_directory = path_to_reasonable_crowd + '/maps'\n",
    "trajectory_directory = path_to_reasonable_crowd + '/trajectories'\n",
    "\n",
    "network_U = parse_map(map_directory, 'U')\n",
    "network_S = parse_map(map_directory, 'S')\n",
    "\n",
    "output_directory = 'outputs'\n",
    "output_file = os.path.join(output_directory, 'results_scenic.txt')\n",
    "'''\n",
    "# First loop: parse and process trajectories, store them in a list\n",
    "trajectories = []\n",
    "trajectory_files = [f for f in os.listdir(trajectory_directory) if f.endswith('.json')]\n",
    "pbar = tqdm(total=len(trajectory_files), leave=False)\n",
    "for filename in trajectory_files:\n",
    "    traj_path = os.path.join(trajectory_directory, filename)\n",
    "    if filename.startswith('U'):\n",
    "        pbar.set_description(f\"Parsing and processing trajectory {filename} on map U\")\n",
    "        realization = parse_trajectory(traj_path, step_size=100000)\n",
    "        realization.network = network_U\n",
    "    else:\n",
    "        pbar.set_description(f\"Parsing and processing trajectory {filename} on map S\")\n",
    "        realization = parse_trajectory(traj_path, step_size=100000)\n",
    "        realization.network = network_S\n",
    "    #process_trajectory(realization)\n",
    "    trajectories.append((filename, realization))\n",
    "    pbar.update(1)\n",
    "pbar.close()\n",
    "\n",
    "\n",
    "'''\n",
    "\n",
    "\n",
    "\n",
    "\n",
    "\n"
   ]
  },
  {
   "cell_type": "code",
   "execution_count": 2,
   "id": "82b2adc4",
   "metadata": {},
   "outputs": [],
   "source": [
    "def _parse_single_file(filename, trajectory_directory, network_U, network_S, step_size):\n",
    "    traj_path = os.path.join(trajectory_directory, filename)\n",
    "    if filename.startswith('U'):\n",
    "        realization = parse_trajectory(traj_path, step_size=step_size)\n",
    "        realization.network = network_U\n",
    "    else:\n",
    "        realization = parse_trajectory(traj_path, step_size=step_size)\n",
    "        realization.network = network_S\n",
    "        \n",
    "    process_trajectory(realization)\n",
    "    return filename, realization\n",
    "\n",
    "def load_all_trajectories(trajectory_directory, network_U, network_S, step_size=100000, max_workers=8):\n",
    "    trajectory_files = [f for f in os.listdir(trajectory_directory) if f.endswith('.json')]\n",
    "    trajectories = []\n",
    "\n",
    "    with ThreadPoolExecutor(max_workers=max_workers) as executor:\n",
    "        futures = {\n",
    "            executor.submit(_parse_single_file, f, trajectory_directory, network_U, network_S, step_size): f\n",
    "            for f in trajectory_files\n",
    "        }\n",
    "\n",
    "        with tqdm(total=len(futures), leave=False) as pbar:\n",
    "            for future in as_completed(futures):\n",
    "                filename, realization = future.result()\n",
    "                trajectories.append((filename, realization))\n",
    "                pbar.set_description(f\"Parsing {filename}\")\n",
    "                pbar.update(1)\n",
    "\n",
    "    return trajectories"
   ]
  },
  {
   "cell_type": "code",
   "execution_count": 3,
   "id": "1391cf76",
   "metadata": {},
   "outputs": [
    {
     "data": {
      "application/vnd.jupyter.widget-view+json": {
       "model_id": "4e8eaa4f3bf3402e9f6cc9a09afbe385",
       "version_major": 2,
       "version_minor": 0
      },
      "text/plain": [
       "  0%|          | 0/576 [00:00<?, ?it/s]"
      ]
     },
     "metadata": {},
     "output_type": "display_data"
    },
    {
     "name": "stdout",
     "output_type": "stream",
     "text": [
      "         1432328 function calls (1430693 primitive calls) in 482.917 seconds\n",
      "\n",
      "   Ordered by: cumulative time\n",
      "   List reduced from 569 to 30 due to restriction <30>\n",
      "\n",
      "   ncalls  tottime  percall  cumtime  percall filename:lineno(function)\n",
      "        1    0.003    0.003  463.384  463.384 /var/folders/08/4xhb8kqd27qggxbyxp4t9g3w0000gn/T/ipykernel_12642/3461841543.py:13(load_all_trajectories)\n",
      "      583    0.002    0.000  458.906    0.787 /opt/anaconda3/envs/benchmark/lib/python3.8/threading.py:540(wait)\n",
      "     1156    0.003    0.000  458.904    0.397 /opt/anaconda3/envs/benchmark/lib/python3.8/threading.py:270(wait)\n",
      "     6757  458.901    0.068  458.901    0.068 {method 'acquire' of '_thread.lock' objects}\n",
      "      577    0.004    0.000  458.838    0.795 /opt/anaconda3/envs/benchmark/lib/python3.8/concurrent/futures/_base.py:200(as_completed)\n",
      "        1   19.399   19.399   19.532   19.532 {built-in method _pickle.dump}\n",
      "        1    0.000    0.000    2.871    2.871 /opt/anaconda3/envs/benchmark/lib/python3.8/site-packages/tqdm/std.py:663(__new__)\n",
      "        1    0.000    0.000    2.864    2.864 /opt/anaconda3/envs/benchmark/lib/python3.8/site-packages/tqdm/std.py:760(get_lock)\n",
      "        1    0.000    0.000    2.864    2.864 /opt/anaconda3/envs/benchmark/lib/python3.8/site-packages/tqdm/std.py:90(__init__)\n",
      "        1    0.000    0.000    2.864    2.864 /opt/anaconda3/envs/benchmark/lib/python3.8/site-packages/tqdm/std.py:116(create_mp_lock)\n",
      "        1    0.000    0.000    2.864    2.864 /opt/anaconda3/envs/benchmark/lib/python3.8/multiprocessing/context.py:70(RLock)\n",
      "      6/2    0.000    0.000    2.828    1.414 <frozen importlib._bootstrap>:986(_find_and_load)\n",
      "      6/2    0.000    0.000    2.828    1.414 <frozen importlib._bootstrap>:956(_find_and_load_unlocked)\n",
      "      6/2    0.000    0.000    2.827    1.413 <frozen importlib._bootstrap>:650(_load_unlocked)\n",
      "      4/2    0.000    0.000    2.826    1.413 <frozen importlib._bootstrap_external>:837(exec_module)\n",
      "     10/2    0.000    0.000    2.128    1.064 <frozen importlib._bootstrap>:211(_call_with_frames_removed)\n",
      "      4/2    0.000    0.000    2.128    1.064 {built-in method builtins.exec}\n",
      "        1    0.000    0.000    2.111    2.111 /opt/anaconda3/envs/benchmark/lib/python3.8/multiprocessing/synchronize.py:11(<module>)\n",
      "       19    2.105    0.111    2.105    0.111 {built-in method posix.stat}\n",
      "       18    0.000    0.000    2.105    0.117 <frozen importlib._bootstrap_external>:135(_path_stat)\n",
      "        6    0.000    0.000    2.092    0.349 <frozen importlib._bootstrap>:890(_find_spec)\n",
      "        6    0.000    0.000    2.092    0.349 <frozen importlib._bootstrap_external>:1399(find_spec)\n",
      "        6    0.000    0.000    2.092    0.349 <frozen importlib._bootstrap_external>:1367(_get_spec)\n",
      "        8    0.000    0.000    2.092    0.262 /Users/ekin/Scenic/src/scenic/syntax/translator.py:465(find_spec)\n",
      "        8    0.000    0.000    2.092    0.262 <frozen importlib._bootstrap_external>:1498(find_spec)\n",
      "        6    0.000    0.000    1.766    0.294 <frozen importlib._bootstrap_external>:154(_path_isfile)\n",
      "        6    0.000    0.000    1.766    0.294 <frozen importlib._bootstrap_external>:145(_path_is_mode_type)\n",
      "     1062    0.003    0.000    1.584    0.001 /opt/anaconda3/envs/benchmark/lib/python3.8/site-packages/tqdm/std.py:1325(refresh)\n",
      "     1064    0.011    0.000    1.573    0.001 /opt/anaconda3/envs/benchmark/lib/python3.8/site-packages/tqdm/notebook.py:139(display)\n",
      "     3207    0.002    0.000    1.511    0.000 /opt/anaconda3/envs/benchmark/lib/python3.8/site-packages/traitlets/traitlets.py:708(__set__)\n",
      "\n",
      "\n"
     ]
    }
   ],
   "source": [
    "import pickle\n",
    "\n",
    "\n",
    "# check if trajectories.pkl exists\n",
    "if os.path.exists(os.path.join(output_directory, 'trajectories.pkl')):\n",
    "    with open(os.path.join(output_directory, 'trajectories.pkl'), 'rb') as f:\n",
    "        trajectories = pickle.load(f)\n",
    "else:\n",
    "    profiler = cProfile.Profile()\n",
    "    profiler.enable()\n",
    "    trajectories = load_all_trajectories(\n",
    "        trajectory_directory,\n",
    "        network_U,\n",
    "        network_S,\n",
    "        step_size=100000,\n",
    "    max_workers=8   # adjust depending on your CPU\n",
    ")\n",
    "    with open(os.path.join(output_directory, 'trajectories.pkl'), 'wb') as f:\n",
    "        pickle.dump(trajectories, f)\n",
    "        \n",
    "        \n",
    "    profiler.disable()\n",
    "    stats = pstats.Stats(profiler).sort_stats(\"cumtime\")\n",
    "    stats.print_stats(30)  # top 30 slowest calls"
   ]
  },
  {
   "cell_type": "code",
   "execution_count": 4,
   "id": "e1c4a534",
   "metadata": {},
   "outputs": [],
   "source": [
    "trajectories_dict = {}\n",
    "for filename, realization in trajectories:\n",
    "    trajectories_dict[filename[:-5]] = realization  # remove .json extension"
   ]
  },
  {
   "cell_type": "code",
   "execution_count": 5,
   "id": "b9ad6b7e",
   "metadata": {},
   "outputs": [],
   "source": [
    "from rulebook_benchmark.realization import VariableHandler\n",
    "from rulebook_benchmark.rule_functions import RuleEngine\n",
    "from rulebook_benchmark.rule_functions import (\n",
    "    f1, f2, f3, f4, f5, f6, f7, f8, f9, f11, f12, f13, f15, f17, f18, Result\n",
    ")"
   ]
  },
  {
   "cell_type": "code",
   "execution_count": 6,
   "id": "7564af47",
   "metadata": {},
   "outputs": [
    {
     "data": {
      "application/vnd.jupyter.widget-view+json": {
       "model_id": "1737f99e08494528aceed323e2ebafad",
       "version_major": 2,
       "version_minor": 0
      },
      "text/plain": [
       "Evaluating trajectories:   0%|          | 0/576 [00:00<?, ?it/s]"
      ]
     },
     "metadata": {},
     "output_type": "display_data"
    },
    {
     "name": "stderr",
     "output_type": "stream",
     "text": [
      "/opt/anaconda3/envs/benchmark/lib/python3.8/site-packages/shapely/measurement.py:72: RuntimeWarning: overflow encountered in distance\n",
      "  return lib.distance(a, b, **kwargs)\n",
      "/opt/anaconda3/envs/benchmark/lib/python3.8/site-packages/shapely/measurement.py:72: RuntimeWarning: invalid value encountered in distance\n",
      "  return lib.distance(a, b, **kwargs)\n"
     ]
    }
   ],
   "source": [
    "\n",
    "\n",
    "ruleset = {\"vru_collision\": f1, \"vehicle_collision\": f2, \"drivable_area\": f3, \"vru_ttc\": f4, \"vru_acknowledgement\": f5, \"vehicle_ttc\": f6, \"correct_side\": f7, \"vru_offroad\": f8, \"vru_onroad\": f9, \"front_clearance_buffer\": f11, \"left_clearance_buffer\": f12, \"right_clearance_buffer\": f13, \"speed_limit\": f15, \"lane_keeping\": f17, \"lane_centering\": f18}\n",
    "\n",
    "\n",
    "\n",
    "def get_rule_violations(realization):\n",
    "\n",
    "    handler = VariableHandler(realization)\n",
    "    rule_engine = RuleEngine(ruleset)\n",
    "\n",
    "    # Evaluate rules\n",
    "    results = rule_engine.evaluate(handler)\n",
    "\n",
    "    return results\n",
    "    results = {}\n",
    "    identity_result = Result()\n",
    "    results['vru_collision'] = f1(realization)\n",
    "    results['vehicle_collision'] = f2(realization)\n",
    "    results['drivable_area'] = f3(realization)\n",
    "    #results['vru_ttc'] = f4(realization)\n",
    "    results['vru_ttc'] = identity_result\n",
    "    results['vru_acknowledgement'] = identity_result\n",
    "    results['vehicle_ttc'] = identity_result\n",
    "    #results['vru_acknowledgement'] = f5(realization, proximity = 5, threshold = -1, steps = 30)\n",
    "    #results['vehicle_ttc'] = f6(realization)\n",
    "    results['correct_side'] = f7(realization)\n",
    "    results['vru_offroad'] = f8(realization, threshold = 1)\n",
    "    results['vru_onroad'] = f9(realization, threshold = 1)\n",
    "    results['front_clearance_buffer'] = f11_a(realization, proximity = 5, threshold = 0.8)\n",
    "    results['left_clearance_buffer'] = f12_a(realization, proximity = 5, threshold = 0.8)\n",
    "    results['right_clearance_buffer'] = f13_a(realization, proximity = 5, threshold = 0.8)\n",
    "    results['speed_limit'] = f15(realization)\n",
    "    results['lane_keeping'] = f17(realization)\n",
    "    results['lane_centering'] = f18(realization)\n",
    "    \n",
    "    return results\n",
    "\n",
    "\n",
    "\n",
    "# Collect evaluation results\n",
    "\n",
    "\n",
    "\n",
    "\n",
    "f = open(output_file, 'w')\n",
    "# Second loop: evaluate and write results\n",
    "pbar = tqdm(total=len(trajectories), desc=\"Evaluating trajectories\", leave=False)\n",
    "for filename, realization in trajectories:\n",
    "    results = get_rule_violations(realization)\n",
    "    f.write(f\"{filename}\")\n",
    "    for _, result in results.items():\n",
    "        f.write(f\" {result.total_violation}\")\n",
    "    pbar.update(1)\n",
    "    f.write(\"\\n\")\n",
    "pbar.close()        \n",
    "\n",
    "f.close()\n",
    "\n"
   ]
  },
  {
   "cell_type": "code",
   "execution_count": null,
   "id": "31310b29",
   "metadata": {},
   "outputs": [
    {
     "name": "stdout",
     "output_type": "stream",
     "text": [
      "1641 1267\n",
      "Accuracy:\n",
      "Pairwise accuracy: 0.7840346534653465\n",
      "Weighted accuracy: 0.7974605712177576\n",
      "Total pairs: 1616\n",
      "Total weighted pairs: 32527\n",
      "\n",
      "Statistics:\n",
      "Model discernment: 0.9833531510107015\n",
      "Human discernment: 0.9756242568370987\n",
      "Human equal count: 41\n",
      "Human non-equal count: 1641\n",
      "Model equal count: 7\n",
      "Model non-equal count: 1654\n",
      "Model non-comparable count: 21\n"
     ]
    }
   ],
   "source": [
    "from IPython.display import display, HTML\n",
    "from pprint import pprint\n",
    "from rulebook_benchmark.rulebook import Rulebook\n",
    "from networkx import topological_sort\n",
    "# Compare with human annotations\n",
    "\n",
    "rb = Rulebook(rule_file=\"reasonable_crowd_rule_functions.py\", rulebook_file=\"reasonable_crowd_4.graph\")\n",
    "\n",
    "rule_id_to_name = {1: \"vru_collision\", 2: \"vehicle_collision\", 3: \"drivable_area\", 4: \"vru_ttc\", 5: \"vru_acknowledgement\", 6: \"vehicle_ttc\", 7:\"correct_side\", 8: \"vru_offroad\", 9: \"vru_onroad\", 11: \"front_clearance_buffer\", 12: \"left_clearance_buffer\", 13: \"right_clearance_buffer\", 15: \"speed_limit\", 17: \"lane_keeping\", 18: \"lane_centering\"}\n",
    "rule_name_to_id = {v: k for k, v in rule_id_to_name.items()}\n",
    "rule_id_to_rule = {rule_id: ruleset[rule_name] for rule_id, rule_name in rule_id_to_name.items()}\n",
    "\n",
    "idx_to_rule_id = list(rule_id_to_name.keys())\n",
    "rule_id_to_idx = {rule_id: idx for idx, rule_id in enumerate(idx_to_rule_id)}\n",
    "sorted_rule_ids = list(topological_sort(rb.priority_graph))\n",
    "rule_names = list(rule_id_to_name.values())\n",
    "results = {}\n",
    "dataset = []\n",
    "\n",
    "wrong_reasons = {rule: 0 for rule in rule_names}\n",
    "correct_reasons = {rule: 0 for rule in rule_names}\n",
    "\n",
    "with open(output_file, 'r') as f:\n",
    "    for line in f:\n",
    "        parts = line.strip().split()\n",
    "        filename = parts[0].split(\".\")[0]\n",
    "        results[filename] = list(map(float, parts[1:]))\n",
    "f.close()\n",
    "\n",
    "incorrect = []\n",
    "\n",
    "correct = 0\n",
    "total = 0\n",
    "weighted_correct = 0\n",
    "weighted_total = 0\n",
    "\n",
    "human_euqal_count = 0\n",
    "human_non_equal_count = 0\n",
    "model_equal_count = 0\n",
    "model_non_equal_count = 0\n",
    "model_non_comparable_count = 0\n",
    "\n",
    "annotation_file = os.path.join(path_to_reasonable_crowd, \"annotations/annotations.json\")\n",
    "with open(annotation_file, 'r') as f:\n",
    "    data = json.load(f)\n",
    "f.close()\n",
    "\n",
    "#print(len(data.items()))\n",
    "for scenario, annotations in data.items():\n",
    "    #print(len(annotations.items()))\n",
    "    evaluated_pairs = set()\n",
    "    for pair, votes in list(annotations.items()):\n",
    "        t1, t2 = pair.split(\" ;; \")\n",
    "        reverse_pair = f\"{t2} ;; {t1}\"\n",
    "        reverse_votes = annotations.get(reverse_pair, [])\n",
    "        if pair in evaluated_pairs or reverse_pair in evaluated_pairs:\n",
    "            continue\n",
    "        if not (t1 in results and t2 in results):\n",
    "            continue\n",
    "        evaluated_pairs.add(pair)\n",
    "        evaluated_pairs.add(reverse_pair)\n",
    "        \n",
    "        votes_1 = len(votes)\n",
    "        votes_2 = len(reverse_votes)\n",
    "        votes_total = votes_1 + votes_2\n",
    "        \n",
    "        if votes_1 > votes_2:\n",
    "            human_pref = Relation.LARGER\n",
    "            human_non_equal_count += 1\n",
    "            dataset.append((t1,t2, 0))\n",
    "        elif votes_1 < votes_2:\n",
    "            human_pref = Relation.SMALLER\n",
    "            human_non_equal_count += 1\n",
    "            dataset.append((t1,t2, 1))\n",
    "        else:\n",
    "            human_pref = Relation.EQUAL\n",
    "            human_euqal_count += 1\n",
    "        \n",
    "        model_pref = rb.compare_trajectories((t1, results), (t2, results))\n",
    "        if model_pref == Relation.EQUAL:\n",
    "            model_equal_count += 1\n",
    "        elif model_pref == Relation.NONCOMPARABLE:\n",
    "            model_non_comparable_count += 1\n",
    "        else:\n",
    "            model_non_equal_count += 1\n",
    "        \n",
    "        if model_pref == Relation.EQUAL or model_pref == Relation.NONCOMPARABLE or human_pref == Relation.EQUAL:\n",
    "            continue\n",
    "        is_correct = (human_pref == model_pref)\n",
    "        correct += int(is_correct)\n",
    "        total += 1\n",
    "        if not is_correct:\n",
    "            \n",
    "            #pprint(f\"Error in {scenario}: {pair} - Model: {model_pref}, Human: {human_pref}\")\n",
    "            #pprint(f\"t1: {list(zip(rule_names, results[t1]))}\")\n",
    "            #pprint(f\"t2: {list(zip(rule_names, results[t2]))}\")\n",
    "            for rule_id in sorted_rule_ids:\n",
    "                if rule_id in rb.rule_ids:\n",
    "                    idx = rule_id_to_idx[rule_id]\n",
    "                    r1 = results[t1][idx]\n",
    "                    r2 = results[t2][idx]\n",
    "                    if r1 != r2:\n",
    "                        reason = (rule_names[idx], r1, r2)\n",
    "                        #pprint(reason)\n",
    "                        wrong_reasons[reason[0]] += 1\n",
    "                        if human_pref == Relation.LARGER:\n",
    "                            incorrect.append((reason[0], t1, t2))\n",
    "                        else:\n",
    "                            incorrect.append((reason[0], t2, t1))\n",
    "                        break\n",
    "        else:                \n",
    "            for rule_id in sorted_rule_ids:\n",
    "                if rule_id in rb.rule_ids:\n",
    "                    idx = rule_id_to_idx[rule_id]\n",
    "                    r1 = results[t1][idx]\n",
    "                    r2 = results[t2][idx]\n",
    "                    if r1 != r2:\n",
    "                        reason = (rule_names[idx], r1, r2)\n",
    "                        correct_reasons[reason[0]] += 1\n",
    "                        break\n",
    "\n",
    "\n",
    "            # print the name of the rule that caused the preference\n",
    "\n",
    "            \n",
    "\n",
    "        weighted_correct += votes_1 if is_correct and human_pref == Relation.LARGER else 0\n",
    "        weighted_correct += votes_2 if is_correct and human_pref == Relation.SMALLER else 0\n",
    "        weighted_total += max(votes_1, votes_2)\n",
    "\n",
    "\n",
    "import numpy as np\n",
    "dataset = np.array(dataset)\n",
    "\n",
    "print(human_non_equal_count, correct)\n",
    "\n",
    "print(\"Accuracy:\")\n",
    "print(\"Pairwise accuracy:\", correct / total if total > 0 else 0)\n",
    "print(\"Weighted accuracy:\", weighted_correct / weighted_total if weighted_total > 0 else 0)\n",
    "print(\"Total pairs:\", total)\n",
    "print(\"Total weighted pairs:\", weighted_total)\n",
    "\n",
    "print(\"\\nStatistics:\")\n",
    "print(\"Model discernment:\", model_non_equal_count / (model_equal_count + model_non_equal_count + model_non_comparable_count))\n",
    "print(\"Human discernment:\", human_non_equal_count / (human_euqal_count + human_non_equal_count))\n",
    "print(\"Human equal count:\", human_euqal_count)\n",
    "print(\"Human non-equal count:\", human_non_equal_count)\n",
    "print(\"Model equal count:\", model_equal_count)\n",
    "print(\"Model non-equal count:\", model_non_equal_count)\n",
    "print(\"Model non-comparable count:\", model_non_comparable_count)\n",
    "\n",
    "\n",
    "\n",
    "# Example usage:\n",
    "# print_small(\"your output text here\")\n"
   ]
  },
  {
   "cell_type": "code",
   "execution_count": 8,
   "id": "463beeec",
   "metadata": {},
   "outputs": [
    {
     "data": {
      "text/plain": [
       "InEdgeDataView([(17, 4)])"
      ]
     },
     "execution_count": 8,
     "metadata": {},
     "output_type": "execute_result"
    }
   ],
   "source": [
    "#rb.priority_graph.\n",
    "import networkx as nx\n",
    "nx.ancestors(rb.priority_graph, 4)\n",
    "neighbors = rb.priority_graph.neighbors(4)\n",
    "rb.priority_graph.in_edges(4)"
   ]
  },
  {
   "cell_type": "code",
   "execution_count": 9,
   "id": "24a7a575",
   "metadata": {},
   "outputs": [
    {
     "name": "stdout",
     "output_type": "stream",
     "text": [
      "Number of 0s: 818\n",
      "Number of 1s: 823\n"
     ]
    }
   ],
   "source": [
    "import numpy as np\n",
    "\n",
    "# Count number of '0's and '1's in the third column of dataset\n",
    "num_zeros = np.sum(dataset[:, 2] == '0')\n",
    "num_ones = np.sum(dataset[:, 2] == '1')\n",
    "\n",
    "print(f\"Number of 0s: {num_zeros}\")\n",
    "print(f\"Number of 1s: {num_ones}\")"
   ]
  },
  {
   "cell_type": "code",
   "execution_count": 41,
   "id": "7b1b25da",
   "metadata": {},
   "outputs": [],
   "source": [
    "class InPlaceRulebook:\n",
    "    def __init__(self, priority_graph, rule_id_to_rule):\n",
    "        # copy the priority graph structure\n",
    "        self.in_place_priority_graph = nx.DiGraph()\n",
    "        for node in priority_graph.nodes(data=True):\n",
    "            self.in_place_priority_graph.add_node(node[0], rule=rule_id_to_rule[node[0]])\n",
    "        for edge in priority_graph.edges(data=True):\n",
    "            self.in_place_priority_graph.add_edge(edge[0], edge[1])\n",
    "            \n",
    "        self.root_node = list(nx.topological_sort(self.in_place_priority_graph))[0]\n",
    "            \n",
    "    def compare_trajectories(self, realization1, realization2):\n",
    "        handler1 = VariableHandler(realization1)\n",
    "        handler2 = VariableHandler(realization2)\n",
    "        \n",
    "        return self._compare_trajectories(self.root_node, handler1, handler2)[0]\n",
    "            \n",
    "    def _compare_trajectories(self, rule_id, handler1, handler2):\n",
    "        rule = self.in_place_priority_graph.nodes[rule_id]['rule']\n",
    "        result1 = rule.evaluate(handler1)\n",
    "        result2 = rule.evaluate(handler2)\n",
    "\n",
    "        \n",
    "        if result1 < result2:\n",
    "            return (0, rule_id)\n",
    "        elif result1 > result2:\n",
    "            return (1, rule_id)\n",
    "        elif self.in_place_priority_graph.out_degree(rule_id) == 0:\n",
    "            return (2, rule_id)\n",
    "        else:\n",
    "\n",
    "            results = {self._compare_trajectories(n, handler1, handler2) for n in self.in_place_priority_graph.successors(rule_id)}\n",
    "            if all(r[0] == 0 for r in results):\n",
    "                return (0, rule_id)\n",
    "            elif all(r[0] == 1 for r in results):\n",
    "                return (1, rule_id)\n",
    "            elif all(r[0] == 2 for r in results):\n",
    "                return (2, rule_id)\n",
    "            else:\n",
    "                return (-1, rule_id)\n",
    "        \n",
    "        \n",
    "    def get_rule_relation(self, id1, id2):\n",
    "        if nx.has_path(self.in_place_priority_graph, id1, id2):\n",
    "            return Relation.LARGER\n",
    "        elif nx.has_path(self.in_place_priority_graph, id2, id1):\n",
    "            return Relation.SMALLER\n",
    "        else:\n",
    "            return Relation.NONCOMPARABLE\n",
    "        \n",
    "            \n",
    "def evaluate_rulebook(rulebook, arr):\n",
    "    correct = 0\n",
    "    incorrect = 0\n",
    "    equal = 0\n",
    "    incomparable = 0\n",
    "    total = len(arr)\n",
    "    pbar = tqdm(total=len(arr), desc=\"Evaluating rulebook\", leave=False)\n",
    "    for t1, t2, label in arr:\n",
    "        r1 = trajectories_dict[t1]\n",
    "        r2 = trajectories_dict[t2]\n",
    "        model_pref = rulebook.compare_trajectories(r1, r2)\n",
    "        label = int(label)\n",
    "        if model_pref == label:\n",
    "            correct += 1\n",
    "        if model_pref != label:\n",
    "            incorrect += 1\n",
    "        if model_pref == 2:\n",
    "            equal += 1\n",
    "        if model_pref == -1:\n",
    "            incomparable += 1\n",
    "            \n",
    "        pbar.update(1)\n",
    "    pbar.close()\n",
    "    return correct, incorrect, equal, incomparable, total\n",
    "            \n",
    "            "
   ]
  },
  {
   "cell_type": "code",
   "execution_count": 42,
   "id": "5c87a3a9",
   "metadata": {},
   "outputs": [
    {
     "data": {
      "application/vnd.jupyter.widget-view+json": {
       "model_id": "1cad2512532742d1a58e5c88ab6deafd",
       "version_major": 2,
       "version_minor": 0
      },
      "text/plain": [
       "Evaluating rulebook:   0%|          | 0/1641 [00:00<?, ?it/s]"
      ]
     },
     "metadata": {},
     "output_type": "display_data"
    },
    {
     "data": {
      "text/plain": [
       "(1213, 428, 5, 117, 1641)"
      ]
     },
     "execution_count": 42,
     "metadata": {},
     "output_type": "execute_result"
    }
   ],
   "source": [
    "rbook = InPlaceRulebook(rb.priority_graph, rule_id_to_rule)\n",
    "evaluate_rulebook(rbook, dataset)"
   ]
  },
  {
   "cell_type": "code",
   "execution_count": 43,
   "id": "564dde72",
   "metadata": {},
   "outputs": [],
   "source": [
    "def get_rule_params(rule_id, ruleset, rule_id_to_params, rule_id_to_name):\n",
    "    \"\"\"\n",
    "    Get the current parameters for a given rule.\n",
    "    \"\"\"\n",
    "    rule_name = rule_id_to_name[rule_id]\n",
    "    rule_fn = ruleset[rule_name]\n",
    "    param_names = rule_id_to_params[rule_id]\n",
    "    return {p: rule_fn.parameters[p] for p in param_names}\n",
    "\n",
    "\n",
    "def set_rule_params(rule_id, param_values, ruleset, rule_id_to_params, rule_id_to_name):\n",
    "    \"\"\"\n",
    "    Set new parameters for a given rule.\n",
    "    \"\"\"\n",
    "    rule_name = rule_id_to_name[rule_id]\n",
    "    rule_fn = ruleset[rule_name]\n",
    "    param_names = rule_id_to_params[rule_id]\n",
    "\n",
    "    for p in param_names:\n",
    "        if p in param_values:\n",
    "            rule_fn.parameters[p] = param_values[p]\n",
    "\n",
    "\n",
    "\n",
    "\n",
    "def evaluate_rule(rule, arr):\n",
    "    rule_engine = RuleEngine({\"tuned_rule\": rule})\n",
    "    correct = 0\n",
    "    remaining = []\n",
    "    # use tqdm\n",
    "    pbar = tqdm(total=len(arr), desc=\"Evaluating rules\", leave=False)\n",
    "    for item in arr:\n",
    "        t1, t2, label = item\n",
    "        trajectory1 = trajectories_dict[t1]\n",
    "        trajectory2 = trajectories_dict[t2]\n",
    "        handler1 = VariableHandler(trajectory1)\n",
    "        handler2 = VariableHandler(trajectory2)\n",
    "        result1 = rule_engine.evaluate(handler1)\n",
    "        result2 = rule_engine.evaluate(handler2)\n",
    "        r1 = result1['tuned_rule'].total_violation\n",
    "        r2 = result2['tuned_rule'].total_violation\n",
    "        print(label, type(label))\n",
    "        if r1 < r2 and label == '0':\n",
    "            print(\"here\")\n",
    "            correct += 1\n",
    "        elif r1 > r2 and label == '1':\n",
    "            correct += 1\n",
    "        else:\n",
    "            remaining.append(item)\n",
    "        pbar.update(1)\n",
    "    pbar.close()\n",
    "    return correct, np.array(remaining)\n",
    "\n",
    "\n",
    "\n",
    "import itertools\n",
    "import numpy as np\n",
    "\n",
    "import itertools\n",
    "import numpy as np\n",
    "\n",
    "def optimize_rules_grid(\n",
    "    ruleset,\n",
    "    priority_order,\n",
    "    rule_id_to_params,\n",
    "    rule_id_to_name,\n",
    "    rule_id_to_values,\n",
    "    all_samples,\n",
    "    rulebook,\n",
    "    verbose=True,\n",
    "):\n",
    "    \"\"\"\n",
    "    Grid-search optimizer for rule parameters in priority order.\n",
    "    - ruleset: dict(rule_name -> rule_object)\n",
    "    - priority_order: list of rule_ids (highest -> lowest)\n",
    "    - rule_id_to_params: dict rule_id -> [param_name, ...]\n",
    "    - rule_id_to_name: dict rule_id -> rule_name\n",
    "    - rule_id_to_values: {rule_id: {param_name: [list of candidate values]}}\n",
    "    - evaluate_rule: callable(rule, samples) -> (correct_count, remaining_samples)\n",
    "    - all_samples: array of tuples (t1, t2, label)\n",
    "    - rulebook: Rulebook instance (must implement get_rule_relation)\n",
    "    \"\"\"\n",
    "    best_config = {}\n",
    "    rule_id_to_samples = {}\n",
    "    first_node = priority_order[0]\n",
    "    priority_graph = rulebook.priority_graph\n",
    "    rule_id_to_samples[first_node] = all_samples\n",
    "\n",
    "    for i, rule_id in enumerate(priority_order):\n",
    "        current_samples = rule_id_to_samples[rule_id]\n",
    "        rule_name = rule_id_to_name[rule_id]\n",
    "        rule = ruleset[rule_name]\n",
    "\n",
    "        if verbose:\n",
    "            print(f\"\\n[optimize_rules_grid] Evaluating {rule_name} (id={rule_id})\")\n",
    "\n",
    "        param_names = rule_id_to_params.get(rule_id, [])\n",
    "        value_lists = rule_id_to_values.get(rule_id, {})\n",
    "\n",
    "        # Case 1: rule has tunable params → grid search\n",
    "        if param_names and value_lists:\n",
    "            best_rule_score = -1\n",
    "            best_rule_params = None\n",
    "            best_remaining = None\n",
    "\n",
    "            for values in itertools.product(*(value_lists[p] for p in param_names)):\n",
    "                trial_params = dict(zip(param_names, values))\n",
    "                set_rule_params(rule_id, trial_params, ruleset, rule_id_to_params, rule_id_to_name)\n",
    "\n",
    "                score, remaining = evaluate_rule(rule, current_samples)\n",
    "                if score > best_rule_score:\n",
    "                    best_rule_score = score\n",
    "                    best_rule_params = trial_params\n",
    "                    best_remaining = remaining\n",
    "\n",
    "            # Commit best params\n",
    "            set_rule_params(rule_id, best_rule_params, ruleset, rule_id_to_params, rule_id_to_name)\n",
    "            best_config[rule_id] = best_rule_params\n",
    "            remaining = best_remaining\n",
    "            \n",
    "            \n",
    "\n",
    "            if verbose:\n",
    "                print(f\"  Best params: {best_rule_params}, score={best_rule_score}, remaining={len(remaining)}\")\n",
    "\n",
    "        # Case 2: no tunable params → just evaluate\n",
    "        else:\n",
    "            score, remaining = evaluate_rule(rule, current_samples)\n",
    "\n",
    "            if verbose:\n",
    "                print(f\"  Fixed params, score={score}, remaining={len(remaining)}\")\n",
    "                \n",
    "                \n",
    "        neighbors = list(priority_graph.neighbors(rule_id))\n",
    "        for neighbor in neighbors:\n",
    "            if rule_id_to_samples.get(neighbor) is None:\n",
    "                rule_id_to_samples[neighbor] = remaining\n",
    "            else:\n",
    "                rule_id_to_samples[neighbor] = np.vstack((rule_id_to_samples[neighbor], remaining)).unique(axis=0)\n",
    "            print(neighbor)\n",
    "\n",
    "\n",
    "    if verbose:\n",
    "        print(\"\\n[optimize_rules_grid] Optimization finished.\")\n",
    "        print(\"Best config by rule id:\")\n",
    "        for rid, params in best_config.items():\n",
    "            print(f\"  {rid} -> {params}\")\n",
    "\n",
    "    return best_config"
   ]
  },
  {
   "cell_type": "code",
   "execution_count": 36,
   "id": "103329bb",
   "metadata": {},
   "outputs": [],
   "source": [
    "\n",
    "sorted_rule_ids = list(topological_sort(rb.priority_graph))\n",
    "rule_id_to_params = {4: [\"threshold\"], 6: [\"threshold\"], 8: [\"threshold\"], 9: [\"threshold\"], 5: [\"velocity\", \"threshold\", \"timesteps\"], 11: [\"threshold\"], 12: [\"threshold\"], 13: [\"threshold\"], 18: [\"buffer\"]}\n",
    "rule_id_to_values = {4: {\"threshold\": [0.3, 0.5, 0.8, 1, 1.5]}, 6: {\"threshold\": [0.3, 0.5, 0.8, 1, 1.5]}, 8: {\"threshold\": [1, 1.5, 2, 2.5, 3]}, 9: {\"threshold\": [1, 1.5, 2, 2.5, 3]}, 5: {\"velocity\": [0, 1, 2, 3], \"threshold\": [-1, -0.5, -0.2, 0], \"timesteps\": [20, 30, 40]}, 11: {\"threshold\": [0.3, 0.5, 0.8, 1, 1.2]}, 12: {\"threshold\": [0.3, 0.5, 0.8, 1]}, 13: {\"threshold\": [0.3, 0.5, 0.8, 1]}, 18: {\"buffer\": [0.2, 0.3, 0.5, 0.8, 1]}}\n",
    "tuning_file = os.path.join(output_directory, 'tuning.txt')\n"
   ]
  },
  {
   "cell_type": "code",
   "execution_count": 57,
   "id": "cb80a9e7",
   "metadata": {},
   "outputs": [
    {
     "data": {
      "text/plain": [
       "<rulebook_benchmark.rulebook.Rule at 0x1722c8ca0>"
      ]
     },
     "execution_count": 57,
     "metadata": {},
     "output_type": "execute_result"
    }
   ],
   "source": [
    "priority_graph = rb.priority_graph\n",
    "priority_graph.nodes[1]['rules'][1]"
   ]
  },
  {
   "cell_type": "code",
   "execution_count": 38,
   "id": "df614f86",
   "metadata": {},
   "outputs": [
    {
     "name": "stdout",
     "output_type": "stream",
     "text": [
      "1641\n"
     ]
    }
   ],
   "source": [
    "print(len(dataset))"
   ]
  },
  {
   "cell_type": "code",
   "execution_count": 40,
   "id": "91fde8fb",
   "metadata": {},
   "outputs": [
    {
     "name": "stdout",
     "output_type": "stream",
     "text": [
      "\n",
      "[optimize_rules_grid] Evaluating vru_collision (id=1)\n"
     ]
    },
    {
     "data": {
      "application/vnd.jupyter.widget-view+json": {
       "model_id": "6eee8e73a2f246819e402092bf7691e1",
       "version_major": 2,
       "version_minor": 0
      },
      "text/plain": [
       "Evaluating rules:   0%|          | 0/1641 [00:00<?, ?it/s]"
      ]
     },
     "metadata": {},
     "output_type": "display_data"
    },
    {
     "name": "stdout",
     "output_type": "stream",
     "text": [
      "  Fixed params, score=0, remaining=1641\n",
      "2\n",
      "\n",
      "[optimize_rules_grid] Evaluating vehicle_collision (id=2)\n"
     ]
    },
    {
     "data": {
      "application/vnd.jupyter.widget-view+json": {
       "model_id": "4c157ea07d894a62a75f575cfca4e949",
       "version_major": 2,
       "version_minor": 0
      },
      "text/plain": [
       "Evaluating rules:   0%|          | 0/1641 [00:00<?, ?it/s]"
      ]
     },
     "metadata": {},
     "output_type": "display_data"
    },
    {
     "name": "stdout",
     "output_type": "stream",
     "text": [
      "  Fixed params, score=294, remaining=1347\n",
      "3\n",
      "\n",
      "[optimize_rules_grid] Evaluating drivable_area (id=3)\n"
     ]
    },
    {
     "data": {
      "application/vnd.jupyter.widget-view+json": {
       "model_id": "658838ddd0ae41c8b82a57a0f13b91a5",
       "version_major": 2,
       "version_minor": 0
      },
      "text/plain": [
       "Evaluating rules:   0%|          | 0/1347 [00:00<?, ?it/s]"
      ]
     },
     "metadata": {},
     "output_type": "display_data"
    },
    {
     "name": "stdout",
     "output_type": "stream",
     "text": [
      "  Fixed params, score=163, remaining=1184\n",
      "7\n",
      "\n",
      "[optimize_rules_grid] Evaluating correct_side (id=7)\n"
     ]
    },
    {
     "data": {
      "application/vnd.jupyter.widget-view+json": {
       "model_id": "dc00ae86af8a4f8f8cc8e8fcc41931c0",
       "version_major": 2,
       "version_minor": 0
      },
      "text/plain": [
       "Evaluating rules:   0%|          | 0/1184 [00:00<?, ?it/s]"
      ]
     },
     "metadata": {},
     "output_type": "display_data"
    },
    {
     "name": "stdout",
     "output_type": "stream",
     "text": [
      "  Fixed params, score=300, remaining=884\n",
      "8\n",
      "9\n",
      "\n",
      "[optimize_rules_grid] Evaluating vru_offroad (id=8)\n"
     ]
    },
    {
     "data": {
      "application/vnd.jupyter.widget-view+json": {
       "model_id": "7803c7f8c6b74891af3d9cfe802684ed",
       "version_major": 2,
       "version_minor": 0
      },
      "text/plain": [
       "Evaluating rules:   0%|          | 0/884 [00:00<?, ?it/s]"
      ]
     },
     "metadata": {},
     "output_type": "display_data"
    },
    {
     "data": {
      "application/vnd.jupyter.widget-view+json": {
       "model_id": "b6bab0e3a17e4466a9dd33e0001f01fd",
       "version_major": 2,
       "version_minor": 0
      },
      "text/plain": [
       "Evaluating rules:   0%|          | 0/884 [00:00<?, ?it/s]"
      ]
     },
     "metadata": {},
     "output_type": "display_data"
    },
    {
     "data": {
      "application/vnd.jupyter.widget-view+json": {
       "model_id": "9f444947592e42c780a69a3956271f6f",
       "version_major": 2,
       "version_minor": 0
      },
      "text/plain": [
       "Evaluating rules:   0%|          | 0/884 [00:00<?, ?it/s]"
      ]
     },
     "metadata": {},
     "output_type": "display_data"
    },
    {
     "data": {
      "application/vnd.jupyter.widget-view+json": {
       "model_id": "e5deb74df98549cb9240c8e62f7fe5fd",
       "version_major": 2,
       "version_minor": 0
      },
      "text/plain": [
       "Evaluating rules:   0%|          | 0/884 [00:00<?, ?it/s]"
      ]
     },
     "metadata": {},
     "output_type": "display_data"
    },
    {
     "data": {
      "application/vnd.jupyter.widget-view+json": {
       "model_id": "3ea7bf7c3c504bff97f1191cf19c5cab",
       "version_major": 2,
       "version_minor": 0
      },
      "text/plain": [
       "Evaluating rules:   0%|          | 0/884 [00:00<?, ?it/s]"
      ]
     },
     "metadata": {},
     "output_type": "display_data"
    },
    {
     "name": "stdout",
     "output_type": "stream",
     "text": [
      "  Best params: {'threshold': 3}, score=207, remaining=677\n",
      "11\n",
      "\n",
      "[optimize_rules_grid] Evaluating vru_onroad (id=9)\n"
     ]
    },
    {
     "data": {
      "application/vnd.jupyter.widget-view+json": {
       "model_id": "85ca1dba1e52439faf5b96adeb9d237c",
       "version_major": 2,
       "version_minor": 0
      },
      "text/plain": [
       "Evaluating rules:   0%|          | 0/884 [00:00<?, ?it/s]"
      ]
     },
     "metadata": {},
     "output_type": "display_data"
    },
    {
     "data": {
      "application/vnd.jupyter.widget-view+json": {
       "model_id": "0c7ad0edc3a049b0a6a6cf915c60fb0d",
       "version_major": 2,
       "version_minor": 0
      },
      "text/plain": [
       "Evaluating rules:   0%|          | 0/884 [00:00<?, ?it/s]"
      ]
     },
     "metadata": {},
     "output_type": "display_data"
    },
    {
     "data": {
      "application/vnd.jupyter.widget-view+json": {
       "model_id": "8adb4519902f44c3984d904aec92857e",
       "version_major": 2,
       "version_minor": 0
      },
      "text/plain": [
       "Evaluating rules:   0%|          | 0/884 [00:00<?, ?it/s]"
      ]
     },
     "metadata": {},
     "output_type": "display_data"
    },
    {
     "data": {
      "application/vnd.jupyter.widget-view+json": {
       "model_id": "99c4262a327745968aebd1d9c1cf12a0",
       "version_major": 2,
       "version_minor": 0
      },
      "text/plain": [
       "Evaluating rules:   0%|          | 0/884 [00:00<?, ?it/s]"
      ]
     },
     "metadata": {},
     "output_type": "display_data"
    },
    {
     "data": {
      "application/vnd.jupyter.widget-view+json": {
       "model_id": "024c13983bc3444a9730b36c26269a55",
       "version_major": 2,
       "version_minor": 0
      },
      "text/plain": [
       "Evaluating rules:   0%|          | 0/884 [00:00<?, ?it/s]"
      ]
     },
     "metadata": {},
     "output_type": "display_data"
    },
    {
     "name": "stdout",
     "output_type": "stream",
     "text": [
      "  Best params: {'threshold': 3}, score=196, remaining=688\n",
      "11\n",
      "\n",
      "[optimize_rules_grid] Evaluating front_clearance_buffer (id=11)\n"
     ]
    },
    {
     "data": {
      "application/vnd.jupyter.widget-view+json": {
       "model_id": "4af20c6d54d54c7d9594a4b16e203bd6",
       "version_major": 2,
       "version_minor": 0
      },
      "text/plain": [
       "Evaluating rules:   0%|          | 0/688 [00:00<?, ?it/s]"
      ]
     },
     "metadata": {},
     "output_type": "display_data"
    },
    {
     "data": {
      "application/vnd.jupyter.widget-view+json": {
       "model_id": "a2b71eab9f9b4e87bd91157a978f2d6e",
       "version_major": 2,
       "version_minor": 0
      },
      "text/plain": [
       "Evaluating rules:   0%|          | 0/688 [00:00<?, ?it/s]"
      ]
     },
     "metadata": {},
     "output_type": "display_data"
    },
    {
     "data": {
      "application/vnd.jupyter.widget-view+json": {
       "model_id": "ed9257a488734f058fb5ea9af5eeaa11",
       "version_major": 2,
       "version_minor": 0
      },
      "text/plain": [
       "Evaluating rules:   0%|          | 0/688 [00:00<?, ?it/s]"
      ]
     },
     "metadata": {},
     "output_type": "display_data"
    },
    {
     "data": {
      "application/vnd.jupyter.widget-view+json": {
       "model_id": "e8cbe4d8fd8f4251b2a6b6e59dc3bc3a",
       "version_major": 2,
       "version_minor": 0
      },
      "text/plain": [
       "Evaluating rules:   0%|          | 0/688 [00:00<?, ?it/s]"
      ]
     },
     "metadata": {},
     "output_type": "display_data"
    },
    {
     "data": {
      "application/vnd.jupyter.widget-view+json": {
       "model_id": "64dd3f19f6204e4092d4df6a9e133178",
       "version_major": 2,
       "version_minor": 0
      },
      "text/plain": [
       "Evaluating rules:   0%|          | 0/688 [00:00<?, ?it/s]"
      ]
     },
     "metadata": {},
     "output_type": "display_data"
    },
    {
     "name": "stdout",
     "output_type": "stream",
     "text": [
      "  Best params: {'threshold': 1.2}, score=79, remaining=609\n",
      "12\n",
      "13\n",
      "\n",
      "[optimize_rules_grid] Evaluating left_clearance_buffer (id=12)\n"
     ]
    },
    {
     "data": {
      "application/vnd.jupyter.widget-view+json": {
       "model_id": "bc680c590f1b436a9109a78a37da2ad7",
       "version_major": 2,
       "version_minor": 0
      },
      "text/plain": [
       "Evaluating rules:   0%|          | 0/609 [00:00<?, ?it/s]"
      ]
     },
     "metadata": {},
     "output_type": "display_data"
    },
    {
     "data": {
      "application/vnd.jupyter.widget-view+json": {
       "model_id": "c5f7d4d27b524422996643e9a1c0ef98",
       "version_major": 2,
       "version_minor": 0
      },
      "text/plain": [
       "Evaluating rules:   0%|          | 0/609 [00:00<?, ?it/s]"
      ]
     },
     "metadata": {},
     "output_type": "display_data"
    },
    {
     "data": {
      "application/vnd.jupyter.widget-view+json": {
       "model_id": "ab6e6b247e2d4abda003521e48978f87",
       "version_major": 2,
       "version_minor": 0
      },
      "text/plain": [
       "Evaluating rules:   0%|          | 0/609 [00:00<?, ?it/s]"
      ]
     },
     "metadata": {},
     "output_type": "display_data"
    },
    {
     "data": {
      "application/vnd.jupyter.widget-view+json": {
       "model_id": "20dfb41fb57a4a4ea320d3bf84c5d4e5",
       "version_major": 2,
       "version_minor": 0
      },
      "text/plain": [
       "Evaluating rules:   0%|          | 0/609 [00:00<?, ?it/s]"
      ]
     },
     "metadata": {},
     "output_type": "display_data"
    },
    {
     "name": "stdout",
     "output_type": "stream",
     "text": [
      "  Best params: {'threshold': 1}, score=143, remaining=466\n",
      "17\n",
      "\n",
      "[optimize_rules_grid] Evaluating right_clearance_buffer (id=13)\n"
     ]
    },
    {
     "data": {
      "application/vnd.jupyter.widget-view+json": {
       "model_id": "11fe82f04b6d4916a3271806a76e9bc5",
       "version_major": 2,
       "version_minor": 0
      },
      "text/plain": [
       "Evaluating rules:   0%|          | 0/609 [00:00<?, ?it/s]"
      ]
     },
     "metadata": {},
     "output_type": "display_data"
    },
    {
     "data": {
      "application/vnd.jupyter.widget-view+json": {
       "model_id": "da39e7d3057140f0b944c6f2bba9b1e0",
       "version_major": 2,
       "version_minor": 0
      },
      "text/plain": [
       "Evaluating rules:   0%|          | 0/609 [00:00<?, ?it/s]"
      ]
     },
     "metadata": {},
     "output_type": "display_data"
    },
    {
     "data": {
      "application/vnd.jupyter.widget-view+json": {
       "model_id": "b2bfdfdf8d7e4950b047e5806b068dc0",
       "version_major": 2,
       "version_minor": 0
      },
      "text/plain": [
       "Evaluating rules:   0%|          | 0/609 [00:00<?, ?it/s]"
      ]
     },
     "metadata": {},
     "output_type": "display_data"
    },
    {
     "data": {
      "application/vnd.jupyter.widget-view+json": {
       "model_id": "63b8d7ce3bb94943bf6fc76bdafeda68",
       "version_major": 2,
       "version_minor": 0
      },
      "text/plain": [
       "Evaluating rules:   0%|          | 0/609 [00:00<?, ?it/s]"
      ]
     },
     "metadata": {},
     "output_type": "display_data"
    },
    {
     "name": "stdout",
     "output_type": "stream",
     "text": [
      "  Best params: {'threshold': 1}, score=163, remaining=446\n",
      "17\n",
      "\n",
      "[optimize_rules_grid] Evaluating lane_keeping (id=17)\n"
     ]
    },
    {
     "data": {
      "application/vnd.jupyter.widget-view+json": {
       "model_id": "66ea805d446f488ca244c85974151a71",
       "version_major": 2,
       "version_minor": 0
      },
      "text/plain": [
       "Evaluating rules:   0%|          | 0/446 [00:00<?, ?it/s]"
      ]
     },
     "metadata": {},
     "output_type": "display_data"
    },
    {
     "name": "stdout",
     "output_type": "stream",
     "text": [
      "  Fixed params, score=131, remaining=315\n",
      "4\n",
      "\n",
      "[optimize_rules_grid] Evaluating vru_ttc (id=4)\n"
     ]
    },
    {
     "data": {
      "application/vnd.jupyter.widget-view+json": {
       "model_id": "c9602240d6874b5fba0f0a9d70bae152",
       "version_major": 2,
       "version_minor": 0
      },
      "text/plain": [
       "Evaluating rules:   0%|          | 0/315 [00:00<?, ?it/s]"
      ]
     },
     "metadata": {},
     "output_type": "display_data"
    },
    {
     "data": {
      "application/vnd.jupyter.widget-view+json": {
       "model_id": "974973ebb3e24610884d52a746d49d0e",
       "version_major": 2,
       "version_minor": 0
      },
      "text/plain": [
       "Evaluating rules:   0%|          | 0/315 [00:00<?, ?it/s]"
      ]
     },
     "metadata": {},
     "output_type": "display_data"
    },
    {
     "data": {
      "application/vnd.jupyter.widget-view+json": {
       "model_id": "ef81753208384282b1b6bd5b209899f6",
       "version_major": 2,
       "version_minor": 0
      },
      "text/plain": [
       "Evaluating rules:   0%|          | 0/315 [00:00<?, ?it/s]"
      ]
     },
     "metadata": {},
     "output_type": "display_data"
    },
    {
     "data": {
      "application/vnd.jupyter.widget-view+json": {
       "model_id": "92e2289e913040e984c05843d3db0f84",
       "version_major": 2,
       "version_minor": 0
      },
      "text/plain": [
       "Evaluating rules:   0%|          | 0/315 [00:00<?, ?it/s]"
      ]
     },
     "metadata": {},
     "output_type": "display_data"
    },
    {
     "data": {
      "application/vnd.jupyter.widget-view+json": {
       "model_id": "d652a32b5e354e49b2f3f357bc75d579",
       "version_major": 2,
       "version_minor": 0
      },
      "text/plain": [
       "Evaluating rules:   0%|          | 0/315 [00:00<?, ?it/s]"
      ]
     },
     "metadata": {},
     "output_type": "display_data"
    },
    {
     "name": "stdout",
     "output_type": "stream",
     "text": [
      "  Best params: {'threshold': 1.5}, score=40, remaining=275\n",
      "5\n",
      "\n",
      "[optimize_rules_grid] Evaluating vru_acknowledgement (id=5)\n"
     ]
    },
    {
     "data": {
      "application/vnd.jupyter.widget-view+json": {
       "model_id": "b42b100e83aa482d9be1a06a92d11819",
       "version_major": 2,
       "version_minor": 0
      },
      "text/plain": [
       "Evaluating rules:   0%|          | 0/275 [00:00<?, ?it/s]"
      ]
     },
     "metadata": {},
     "output_type": "display_data"
    },
    {
     "data": {
      "application/vnd.jupyter.widget-view+json": {
       "model_id": "a61c5eb6ab914f52acdcd63a2ee49967",
       "version_major": 2,
       "version_minor": 0
      },
      "text/plain": [
       "Evaluating rules:   0%|          | 0/275 [00:00<?, ?it/s]"
      ]
     },
     "metadata": {},
     "output_type": "display_data"
    },
    {
     "data": {
      "application/vnd.jupyter.widget-view+json": {
       "model_id": "64559a8893d34849be852157fc5dba69",
       "version_major": 2,
       "version_minor": 0
      },
      "text/plain": [
       "Evaluating rules:   0%|          | 0/275 [00:00<?, ?it/s]"
      ]
     },
     "metadata": {},
     "output_type": "display_data"
    },
    {
     "data": {
      "application/vnd.jupyter.widget-view+json": {
       "model_id": "f7acafa4961c4870b1747bcc0f260c9a",
       "version_major": 2,
       "version_minor": 0
      },
      "text/plain": [
       "Evaluating rules:   0%|          | 0/275 [00:00<?, ?it/s]"
      ]
     },
     "metadata": {},
     "output_type": "display_data"
    },
    {
     "data": {
      "application/vnd.jupyter.widget-view+json": {
       "model_id": "28796348bb7749b089e81310c90d04a8",
       "version_major": 2,
       "version_minor": 0
      },
      "text/plain": [
       "Evaluating rules:   0%|          | 0/275 [00:00<?, ?it/s]"
      ]
     },
     "metadata": {},
     "output_type": "display_data"
    },
    {
     "data": {
      "application/vnd.jupyter.widget-view+json": {
       "model_id": "7837941e1c1b4c65badc8410f21420dd",
       "version_major": 2,
       "version_minor": 0
      },
      "text/plain": [
       "Evaluating rules:   0%|          | 0/275 [00:00<?, ?it/s]"
      ]
     },
     "metadata": {},
     "output_type": "display_data"
    },
    {
     "data": {
      "application/vnd.jupyter.widget-view+json": {
       "model_id": "15938350c7584855b56d2c35082c8642",
       "version_major": 2,
       "version_minor": 0
      },
      "text/plain": [
       "Evaluating rules:   0%|          | 0/275 [00:00<?, ?it/s]"
      ]
     },
     "metadata": {},
     "output_type": "display_data"
    },
    {
     "data": {
      "application/vnd.jupyter.widget-view+json": {
       "model_id": "a5840d3e897b4657b6342e5801cd30a4",
       "version_major": 2,
       "version_minor": 0
      },
      "text/plain": [
       "Evaluating rules:   0%|          | 0/275 [00:00<?, ?it/s]"
      ]
     },
     "metadata": {},
     "output_type": "display_data"
    },
    {
     "data": {
      "application/vnd.jupyter.widget-view+json": {
       "model_id": "7f097d5eb02e4363ac1edb88412df12e",
       "version_major": 2,
       "version_minor": 0
      },
      "text/plain": [
       "Evaluating rules:   0%|          | 0/275 [00:00<?, ?it/s]"
      ]
     },
     "metadata": {},
     "output_type": "display_data"
    },
    {
     "data": {
      "application/vnd.jupyter.widget-view+json": {
       "model_id": "1929f25642ee44c397c6bb694106109e",
       "version_major": 2,
       "version_minor": 0
      },
      "text/plain": [
       "Evaluating rules:   0%|          | 0/275 [00:00<?, ?it/s]"
      ]
     },
     "metadata": {},
     "output_type": "display_data"
    },
    {
     "data": {
      "application/vnd.jupyter.widget-view+json": {
       "model_id": "224d1c06d664497e9cb962d35504075d",
       "version_major": 2,
       "version_minor": 0
      },
      "text/plain": [
       "Evaluating rules:   0%|          | 0/275 [00:00<?, ?it/s]"
      ]
     },
     "metadata": {},
     "output_type": "display_data"
    },
    {
     "data": {
      "application/vnd.jupyter.widget-view+json": {
       "model_id": "20f909687c7e462fb85467914de11f34",
       "version_major": 2,
       "version_minor": 0
      },
      "text/plain": [
       "Evaluating rules:   0%|          | 0/275 [00:00<?, ?it/s]"
      ]
     },
     "metadata": {},
     "output_type": "display_data"
    },
    {
     "data": {
      "application/vnd.jupyter.widget-view+json": {
       "model_id": "fb0d608263ff4bcda1db24a8ee1601b1",
       "version_major": 2,
       "version_minor": 0
      },
      "text/plain": [
       "Evaluating rules:   0%|          | 0/275 [00:00<?, ?it/s]"
      ]
     },
     "metadata": {},
     "output_type": "display_data"
    },
    {
     "data": {
      "application/vnd.jupyter.widget-view+json": {
       "model_id": "fd47d2e7ec40478a923d42d886b803e2",
       "version_major": 2,
       "version_minor": 0
      },
      "text/plain": [
       "Evaluating rules:   0%|          | 0/275 [00:00<?, ?it/s]"
      ]
     },
     "metadata": {},
     "output_type": "display_data"
    },
    {
     "data": {
      "application/vnd.jupyter.widget-view+json": {
       "model_id": "ec8f92fcb3b749feb167cc6e62cc933d",
       "version_major": 2,
       "version_minor": 0
      },
      "text/plain": [
       "Evaluating rules:   0%|          | 0/275 [00:00<?, ?it/s]"
      ]
     },
     "metadata": {},
     "output_type": "display_data"
    },
    {
     "data": {
      "application/vnd.jupyter.widget-view+json": {
       "model_id": "52ed6204ae0e4d0a8de6ba1379a02ad7",
       "version_major": 2,
       "version_minor": 0
      },
      "text/plain": [
       "Evaluating rules:   0%|          | 0/275 [00:00<?, ?it/s]"
      ]
     },
     "metadata": {},
     "output_type": "display_data"
    },
    {
     "data": {
      "application/vnd.jupyter.widget-view+json": {
       "model_id": "f0ced7e99e934ad2931862ac24966104",
       "version_major": 2,
       "version_minor": 0
      },
      "text/plain": [
       "Evaluating rules:   0%|          | 0/275 [00:00<?, ?it/s]"
      ]
     },
     "metadata": {},
     "output_type": "display_data"
    },
    {
     "data": {
      "application/vnd.jupyter.widget-view+json": {
       "model_id": "b671da8ecf824533b252479847aa35d6",
       "version_major": 2,
       "version_minor": 0
      },
      "text/plain": [
       "Evaluating rules:   0%|          | 0/275 [00:00<?, ?it/s]"
      ]
     },
     "metadata": {},
     "output_type": "display_data"
    },
    {
     "data": {
      "application/vnd.jupyter.widget-view+json": {
       "model_id": "f7ac55620fe34e8a8c80b1145887e970",
       "version_major": 2,
       "version_minor": 0
      },
      "text/plain": [
       "Evaluating rules:   0%|          | 0/275 [00:00<?, ?it/s]"
      ]
     },
     "metadata": {},
     "output_type": "display_data"
    },
    {
     "data": {
      "application/vnd.jupyter.widget-view+json": {
       "model_id": "9202fbf51a834caab02cbc545aa42063",
       "version_major": 2,
       "version_minor": 0
      },
      "text/plain": [
       "Evaluating rules:   0%|          | 0/275 [00:00<?, ?it/s]"
      ]
     },
     "metadata": {},
     "output_type": "display_data"
    },
    {
     "data": {
      "application/vnd.jupyter.widget-view+json": {
       "model_id": "4a860464ea4b4a229b184d7cea500797",
       "version_major": 2,
       "version_minor": 0
      },
      "text/plain": [
       "Evaluating rules:   0%|          | 0/275 [00:00<?, ?it/s]"
      ]
     },
     "metadata": {},
     "output_type": "display_data"
    },
    {
     "data": {
      "application/vnd.jupyter.widget-view+json": {
       "model_id": "6576c5e47ff944728ee89fec79d460d5",
       "version_major": 2,
       "version_minor": 0
      },
      "text/plain": [
       "Evaluating rules:   0%|          | 0/275 [00:00<?, ?it/s]"
      ]
     },
     "metadata": {},
     "output_type": "display_data"
    },
    {
     "data": {
      "application/vnd.jupyter.widget-view+json": {
       "model_id": "612db66291614899a565b4c5ec6d8538",
       "version_major": 2,
       "version_minor": 0
      },
      "text/plain": [
       "Evaluating rules:   0%|          | 0/275 [00:00<?, ?it/s]"
      ]
     },
     "metadata": {},
     "output_type": "display_data"
    },
    {
     "data": {
      "application/vnd.jupyter.widget-view+json": {
       "model_id": "f0f28495acbf454994d14d33453cf6c3",
       "version_major": 2,
       "version_minor": 0
      },
      "text/plain": [
       "Evaluating rules:   0%|          | 0/275 [00:00<?, ?it/s]"
      ]
     },
     "metadata": {},
     "output_type": "display_data"
    },
    {
     "data": {
      "application/vnd.jupyter.widget-view+json": {
       "model_id": "c4de448ff2784b79b2fc415477863ef0",
       "version_major": 2,
       "version_minor": 0
      },
      "text/plain": [
       "Evaluating rules:   0%|          | 0/275 [00:00<?, ?it/s]"
      ]
     },
     "metadata": {},
     "output_type": "display_data"
    },
    {
     "data": {
      "application/vnd.jupyter.widget-view+json": {
       "model_id": "bf86388a551f459aba588ca5ad17d31c",
       "version_major": 2,
       "version_minor": 0
      },
      "text/plain": [
       "Evaluating rules:   0%|          | 0/275 [00:00<?, ?it/s]"
      ]
     },
     "metadata": {},
     "output_type": "display_data"
    },
    {
     "data": {
      "application/vnd.jupyter.widget-view+json": {
       "model_id": "66ac397464d843998a5556314332f54a",
       "version_major": 2,
       "version_minor": 0
      },
      "text/plain": [
       "Evaluating rules:   0%|          | 0/275 [00:00<?, ?it/s]"
      ]
     },
     "metadata": {},
     "output_type": "display_data"
    },
    {
     "data": {
      "application/vnd.jupyter.widget-view+json": {
       "model_id": "c8accffd30474f2ba521e7a27d97556b",
       "version_major": 2,
       "version_minor": 0
      },
      "text/plain": [
       "Evaluating rules:   0%|          | 0/275 [00:00<?, ?it/s]"
      ]
     },
     "metadata": {},
     "output_type": "display_data"
    },
    {
     "data": {
      "application/vnd.jupyter.widget-view+json": {
       "model_id": "e38f210dc9bd4bbe9300f59d81525bff",
       "version_major": 2,
       "version_minor": 0
      },
      "text/plain": [
       "Evaluating rules:   0%|          | 0/275 [00:00<?, ?it/s]"
      ]
     },
     "metadata": {},
     "output_type": "display_data"
    },
    {
     "data": {
      "application/vnd.jupyter.widget-view+json": {
       "model_id": "0e551a11202a4adc980c8fb86839e3f9",
       "version_major": 2,
       "version_minor": 0
      },
      "text/plain": [
       "Evaluating rules:   0%|          | 0/275 [00:00<?, ?it/s]"
      ]
     },
     "metadata": {},
     "output_type": "display_data"
    },
    {
     "data": {
      "application/vnd.jupyter.widget-view+json": {
       "model_id": "ba9dd8c282304836ba9192c7bb58f04a",
       "version_major": 2,
       "version_minor": 0
      },
      "text/plain": [
       "Evaluating rules:   0%|          | 0/275 [00:00<?, ?it/s]"
      ]
     },
     "metadata": {},
     "output_type": "display_data"
    },
    {
     "data": {
      "application/vnd.jupyter.widget-view+json": {
       "model_id": "c61624a4693847598f50c2e0c32236b8",
       "version_major": 2,
       "version_minor": 0
      },
      "text/plain": [
       "Evaluating rules:   0%|          | 0/275 [00:00<?, ?it/s]"
      ]
     },
     "metadata": {},
     "output_type": "display_data"
    },
    {
     "data": {
      "application/vnd.jupyter.widget-view+json": {
       "model_id": "87d266da783b48e5a9a905134669aa80",
       "version_major": 2,
       "version_minor": 0
      },
      "text/plain": [
       "Evaluating rules:   0%|          | 0/275 [00:00<?, ?it/s]"
      ]
     },
     "metadata": {},
     "output_type": "display_data"
    },
    {
     "data": {
      "application/vnd.jupyter.widget-view+json": {
       "model_id": "704a4c9246494052ae1ffa0e47fb8131",
       "version_major": 2,
       "version_minor": 0
      },
      "text/plain": [
       "Evaluating rules:   0%|          | 0/275 [00:00<?, ?it/s]"
      ]
     },
     "metadata": {},
     "output_type": "display_data"
    },
    {
     "data": {
      "application/vnd.jupyter.widget-view+json": {
       "model_id": "200aafd2ee4445868996204ec8e38129",
       "version_major": 2,
       "version_minor": 0
      },
      "text/plain": [
       "Evaluating rules:   0%|          | 0/275 [00:00<?, ?it/s]"
      ]
     },
     "metadata": {},
     "output_type": "display_data"
    },
    {
     "data": {
      "application/vnd.jupyter.widget-view+json": {
       "model_id": "c481737937c34d7e847966f8b09906a2",
       "version_major": 2,
       "version_minor": 0
      },
      "text/plain": [
       "Evaluating rules:   0%|          | 0/275 [00:00<?, ?it/s]"
      ]
     },
     "metadata": {},
     "output_type": "display_data"
    },
    {
     "data": {
      "application/vnd.jupyter.widget-view+json": {
       "model_id": "bba75dce533a41bc8ee8b109ad4d3efa",
       "version_major": 2,
       "version_minor": 0
      },
      "text/plain": [
       "Evaluating rules:   0%|          | 0/275 [00:00<?, ?it/s]"
      ]
     },
     "metadata": {},
     "output_type": "display_data"
    },
    {
     "data": {
      "application/vnd.jupyter.widget-view+json": {
       "model_id": "89c62cdcfd5a429e9bd94b4409c8db53",
       "version_major": 2,
       "version_minor": 0
      },
      "text/plain": [
       "Evaluating rules:   0%|          | 0/275 [00:00<?, ?it/s]"
      ]
     },
     "metadata": {},
     "output_type": "display_data"
    },
    {
     "data": {
      "application/vnd.jupyter.widget-view+json": {
       "model_id": "f0d4f5d41426450e9af0fc35fb156a0c",
       "version_major": 2,
       "version_minor": 0
      },
      "text/plain": [
       "Evaluating rules:   0%|          | 0/275 [00:00<?, ?it/s]"
      ]
     },
     "metadata": {},
     "output_type": "display_data"
    },
    {
     "data": {
      "application/vnd.jupyter.widget-view+json": {
       "model_id": "161bb463e17349988050ee4bace8de7b",
       "version_major": 2,
       "version_minor": 0
      },
      "text/plain": [
       "Evaluating rules:   0%|          | 0/275 [00:00<?, ?it/s]"
      ]
     },
     "metadata": {},
     "output_type": "display_data"
    },
    {
     "data": {
      "application/vnd.jupyter.widget-view+json": {
       "model_id": "8ca5a1d34fd2462c861f7ba93257972d",
       "version_major": 2,
       "version_minor": 0
      },
      "text/plain": [
       "Evaluating rules:   0%|          | 0/275 [00:00<?, ?it/s]"
      ]
     },
     "metadata": {},
     "output_type": "display_data"
    },
    {
     "data": {
      "application/vnd.jupyter.widget-view+json": {
       "model_id": "857b77a121a940e1a1be6973145dd246",
       "version_major": 2,
       "version_minor": 0
      },
      "text/plain": [
       "Evaluating rules:   0%|          | 0/275 [00:00<?, ?it/s]"
      ]
     },
     "metadata": {},
     "output_type": "display_data"
    },
    {
     "data": {
      "application/vnd.jupyter.widget-view+json": {
       "model_id": "34ea98121ff540538795f70ee877ef14",
       "version_major": 2,
       "version_minor": 0
      },
      "text/plain": [
       "Evaluating rules:   0%|          | 0/275 [00:00<?, ?it/s]"
      ]
     },
     "metadata": {},
     "output_type": "display_data"
    },
    {
     "data": {
      "application/vnd.jupyter.widget-view+json": {
       "model_id": "c5d7991c69ff4a20895b66aad592d2e6",
       "version_major": 2,
       "version_minor": 0
      },
      "text/plain": [
       "Evaluating rules:   0%|          | 0/275 [00:00<?, ?it/s]"
      ]
     },
     "metadata": {},
     "output_type": "display_data"
    },
    {
     "data": {
      "application/vnd.jupyter.widget-view+json": {
       "model_id": "dddff5ed383342ea9eecee0a8cd458f1",
       "version_major": 2,
       "version_minor": 0
      },
      "text/plain": [
       "Evaluating rules:   0%|          | 0/275 [00:00<?, ?it/s]"
      ]
     },
     "metadata": {},
     "output_type": "display_data"
    },
    {
     "data": {
      "application/vnd.jupyter.widget-view+json": {
       "model_id": "3183b40ee8fd498a80a16988b3c1e218",
       "version_major": 2,
       "version_minor": 0
      },
      "text/plain": [
       "Evaluating rules:   0%|          | 0/275 [00:00<?, ?it/s]"
      ]
     },
     "metadata": {},
     "output_type": "display_data"
    },
    {
     "data": {
      "application/vnd.jupyter.widget-view+json": {
       "model_id": "f335b6ba86b24c69b4931b9595a69fc1",
       "version_major": 2,
       "version_minor": 0
      },
      "text/plain": [
       "Evaluating rules:   0%|          | 0/275 [00:00<?, ?it/s]"
      ]
     },
     "metadata": {},
     "output_type": "display_data"
    },
    {
     "data": {
      "application/vnd.jupyter.widget-view+json": {
       "model_id": "362d55c7cf7c4f028e79efb23afb5e53",
       "version_major": 2,
       "version_minor": 0
      },
      "text/plain": [
       "Evaluating rules:   0%|          | 0/275 [00:00<?, ?it/s]"
      ]
     },
     "metadata": {},
     "output_type": "display_data"
    },
    {
     "name": "stdout",
     "output_type": "stream",
     "text": [
      "  Best params: {'velocity': 0, 'threshold': -1, 'timesteps': 20}, score=26, remaining=249\n",
      "6\n",
      "\n",
      "[optimize_rules_grid] Evaluating vehicle_ttc (id=6)\n"
     ]
    },
    {
     "data": {
      "application/vnd.jupyter.widget-view+json": {
       "model_id": "ef09f2792ac44ba6befae1cb07026da1",
       "version_major": 2,
       "version_minor": 0
      },
      "text/plain": [
       "Evaluating rules:   0%|          | 0/249 [00:00<?, ?it/s]"
      ]
     },
     "metadata": {},
     "output_type": "display_data"
    },
    {
     "data": {
      "application/vnd.jupyter.widget-view+json": {
       "model_id": "2935890693cf46baab7d7e92e6f42c39",
       "version_major": 2,
       "version_minor": 0
      },
      "text/plain": [
       "Evaluating rules:   0%|          | 0/249 [00:00<?, ?it/s]"
      ]
     },
     "metadata": {},
     "output_type": "display_data"
    },
    {
     "data": {
      "application/vnd.jupyter.widget-view+json": {
       "model_id": "86912ef7c94242bba6234fcd0238a435",
       "version_major": 2,
       "version_minor": 0
      },
      "text/plain": [
       "Evaluating rules:   0%|          | 0/249 [00:00<?, ?it/s]"
      ]
     },
     "metadata": {},
     "output_type": "display_data"
    },
    {
     "data": {
      "application/vnd.jupyter.widget-view+json": {
       "model_id": "0bc865c107c54af3b1451a18be55172a",
       "version_major": 2,
       "version_minor": 0
      },
      "text/plain": [
       "Evaluating rules:   0%|          | 0/249 [00:00<?, ?it/s]"
      ]
     },
     "metadata": {},
     "output_type": "display_data"
    },
    {
     "data": {
      "application/vnd.jupyter.widget-view+json": {
       "model_id": "408fa092c88e425b853a4a93c07265c1",
       "version_major": 2,
       "version_minor": 0
      },
      "text/plain": [
       "Evaluating rules:   0%|          | 0/249 [00:00<?, ?it/s]"
      ]
     },
     "metadata": {},
     "output_type": "display_data"
    },
    {
     "name": "stdout",
     "output_type": "stream",
     "text": [
      "  Best params: {'threshold': 1.5}, score=61, remaining=188\n",
      "15\n",
      "\n",
      "[optimize_rules_grid] Evaluating speed_limit (id=15)\n"
     ]
    },
    {
     "data": {
      "application/vnd.jupyter.widget-view+json": {
       "model_id": "ee41043ae935407e8b49d258892d6a2b",
       "version_major": 2,
       "version_minor": 0
      },
      "text/plain": [
       "Evaluating rules:   0%|          | 0/188 [00:00<?, ?it/s]"
      ]
     },
     "metadata": {},
     "output_type": "display_data"
    },
    {
     "name": "stdout",
     "output_type": "stream",
     "text": [
      "  Fixed params, score=0, remaining=188\n",
      "18\n",
      "\n",
      "[optimize_rules_grid] Evaluating lane_centering (id=18)\n"
     ]
    },
    {
     "data": {
      "application/vnd.jupyter.widget-view+json": {
       "model_id": "eaa675379655422fa8a3e1ce701e28b0",
       "version_major": 2,
       "version_minor": 0
      },
      "text/plain": [
       "Evaluating rules:   0%|          | 0/188 [00:00<?, ?it/s]"
      ]
     },
     "metadata": {},
     "output_type": "display_data"
    },
    {
     "data": {
      "application/vnd.jupyter.widget-view+json": {
       "model_id": "5ba2ec4387384b8088cd1eedf03b8c0b",
       "version_major": 2,
       "version_minor": 0
      },
      "text/plain": [
       "Evaluating rules:   0%|          | 0/188 [00:00<?, ?it/s]"
      ]
     },
     "metadata": {},
     "output_type": "display_data"
    },
    {
     "data": {
      "application/vnd.jupyter.widget-view+json": {
       "model_id": "454a058d4891433eb4043ff4a46b84e4",
       "version_major": 2,
       "version_minor": 0
      },
      "text/plain": [
       "Evaluating rules:   0%|          | 0/188 [00:00<?, ?it/s]"
      ]
     },
     "metadata": {},
     "output_type": "display_data"
    },
    {
     "data": {
      "application/vnd.jupyter.widget-view+json": {
       "model_id": "981634bbc2244fd791f97a836e36a48d",
       "version_major": 2,
       "version_minor": 0
      },
      "text/plain": [
       "Evaluating rules:   0%|          | 0/188 [00:00<?, ?it/s]"
      ]
     },
     "metadata": {},
     "output_type": "display_data"
    },
    {
     "data": {
      "application/vnd.jupyter.widget-view+json": {
       "model_id": "2adeea7fe6e4406e827ca1d23c5fe808",
       "version_major": 2,
       "version_minor": 0
      },
      "text/plain": [
       "Evaluating rules:   0%|          | 0/188 [00:00<?, ?it/s]"
      ]
     },
     "metadata": {},
     "output_type": "display_data"
    },
    {
     "name": "stdout",
     "output_type": "stream",
     "text": [
      "  Best params: {'buffer': 0.3}, score=134, remaining=54\n",
      "\n",
      "[optimize_rules_grid] Optimization finished.\n",
      "Best config by rule id:\n",
      "  8 -> {'threshold': 3}\n",
      "  9 -> {'threshold': 3}\n",
      "  11 -> {'threshold': 1.2}\n",
      "  12 -> {'threshold': 1}\n",
      "  13 -> {'threshold': 1}\n",
      "  4 -> {'threshold': 1.5}\n",
      "  5 -> {'velocity': 0, 'threshold': -1, 'timesteps': 20}\n",
      "  6 -> {'threshold': 1.5}\n",
      "  18 -> {'buffer': 0.3}\n",
      "         4386123503 function calls (4356657003 primitive calls) in 2175.274 seconds\n",
      "\n",
      "   Ordered by: cumulative time\n",
      "   List reduced from 489 to 30 due to restriction <30>\n",
      "\n",
      "   ncalls  tottime  percall  cumtime  percall filename:lineno(function)\n",
      "        2    0.000    0.000 2175.272 1087.636 /opt/anaconda3/envs/benchmark/lib/python3.8/site-packages/IPython/core/interactiveshell.py:3472(run_code)\n",
      "        2    0.000    0.000 2175.272 1087.636 {built-in method builtins.exec}\n",
      "        1    0.000    0.000 2175.272 2175.272 /var/folders/08/4xhb8kqd27qggxbyxp4t9g3w0000gn/T/ipykernel_2758/1645226332.py:5(<module>)\n",
      "        1    0.014    0.014 2175.271 2175.271 /var/folders/08/4xhb8kqd27qggxbyxp4t9g3w0000gn/T/ipykernel_2758/3920008353.py:60(optimize_rules_grid)\n",
      "       92    0.552    0.006 2175.255   23.644 /var/folders/08/4xhb8kqd27qggxbyxp4t9g3w0000gn/T/ipykernel_2758/3920008353.py:26(evaluate_rule)\n",
      "    81118   11.335    0.000 2155.910    0.027 /Users/ekin/rulebook_benchmark/src/rulebook_benchmark/rule_functions.py:49(evaluate)\n",
      " 17658420    6.814    0.000 2134.371    0.000 /Users/ekin/rulebook_benchmark/src/rulebook_benchmark/rule_functions.py:37(__call__)\n",
      "22544764/19524132   12.621    0.000 1297.834    0.000 /opt/anaconda3/envs/benchmark/lib/python3.8/site-packages/cached_property.py:23(__get__)\n",
      "  5573489    6.382    0.000  821.749    0.000 /opt/anaconda3/envs/benchmark/lib/python3.8/site-packages/shapely/geometry/linestring.py:38(__new__)\n",
      "  2064696    7.499    0.000  774.120    0.000 /Users/ekin/rulebook_benchmark/src/rulebook_benchmark/rule_functions.py:433(side_clearance)\n",
      "  5573489   35.926    0.000  589.019    0.000 /opt/anaconda3/envs/benchmark/lib/python3.8/site-packages/shapely/geometry/linestring.py:66(<listcomp>)\n",
      "  3518537    9.582    0.000  576.732    0.000 /Users/ekin/rulebook_benchmark/src/rulebook_benchmark/realization.py:347(trajectory_front_linestring)\n",
      "627685751   95.308    0.000  553.093    0.000 /opt/anaconda3/envs/benchmark/lib/python3.8/site-packages/shapely/geometry/linestring.py:60(_coords)\n",
      " 20959518  152.687    0.000  460.273    0.000 /opt/anaconda3/envs/benchmark/lib/python3.8/site-packages/shapely/decorators.py:62(wrapped)\n",
      "627685751  440.258    0.000  440.615    0.000 /opt/anaconda3/envs/benchmark/lib/python3.8/site-packages/shapely/geometry/linestring.py:64(<listcomp>)\n",
      "150847401   18.226    0.000  433.390    0.000 /Users/ekin/rulebook_benchmark/src/rulebook_benchmark/realization.py:221(__call__)\n",
      " 17018271   25.260    0.000  415.164    0.000 /Users/ekin/rulebook_benchmark/src/rulebook_benchmark/realization.py:271(__init__)\n",
      "  1470465    2.014    0.000  358.491    0.000 /Users/ekin/rulebook_benchmark/src/rulebook_benchmark/rule_functions.py:414(front_clearance)\n",
      " 15347227  200.261    0.000  315.550    0.000 /Users/ekin/rulebook_benchmark/src/rulebook_benchmark/utils.py:43(in_proximity)\n",
      "  5622000   33.076    0.000  303.355    0.000 /Users/ekin/rulebook_benchmark/src/rulebook_benchmark/rule_functions.py:278(vru_acknowledgement)\n",
      "  2054952    5.445    0.000  283.800    0.000 /Users/ekin/rulebook_benchmark/src/rulebook_benchmark/realization.py:352(trajectory_behind_linestring)\n",
      "  3940070    1.902    0.000  233.680    0.000 /Users/ekin/rulebook_benchmark/src/rulebook_benchmark/rule_functions.py:256(vru_clearance)\n",
      " 10314362    3.429    0.000  220.762    0.000 /Users/ekin/rulebook_benchmark/src/rulebook_benchmark/realization.py:323(vrus_in_proximity)\n",
      " 17018271   84.987    0.000  200.005    0.000 /Users/ekin/rulebook_benchmark/src/rulebook_benchmark/realization.py:194(other_vehicle_states)\n",
      " 17018271   85.359    0.000  140.751    0.000 /Users/ekin/rulebook_benchmark/src/rulebook_benchmark/realization.py:36(get_world_state)\n",
      "     6564    1.101    0.000  125.808    0.019 /Users/ekin/rulebook_benchmark/src/rulebook_benchmark/realization.py:244(collision_timeline)\n",
      "   752292    0.370    0.000  104.298    0.000 /Users/ekin/rulebook_benchmark/src/rulebook_benchmark/rule_functions.py:137(vru_collision)\n",
      "  5032865    1.929    0.000  100.146    0.000 /Users/ekin/rulebook_benchmark/src/rulebook_benchmark/realization.py:320(vehicles_in_proximity)\n",
      " 32954793    9.051    0.000   99.651    0.000 <__array_function__ internals>:177(norm)\n",
      " 41804892   17.386    0.000   97.704    0.000 {built-in method numpy.core._multiarray_umath.implement_array_function}\n",
      "\n",
      "\n"
     ]
    },
    {
     "data": {
      "text/plain": [
       "<pstats.Stats at 0x1682a4ca0>"
      ]
     },
     "execution_count": 40,
     "metadata": {},
     "output_type": "execute_result"
    }
   ],
   "source": [
    "import cProfile, pstats\n",
    "profiler = cProfile.Profile()\n",
    "profiler.enable()\n",
    "\n",
    "best_config = optimize_rules_grid(\n",
    "    ruleset,\n",
    "    sorted_rule_ids,\n",
    "    rule_id_to_params,\n",
    "    rule_id_to_name,\n",
    "    rule_id_to_values,\n",
    "    dataset,\n",
    "    rb,\n",
    "    verbose=True,\n",
    ")\n",
    "\n",
    "profiler.disable()\n",
    "stats = pstats.Stats(profiler).sort_stats(\"cumtime\")\n",
    "stats.print_stats(30)  # top 30 slowest calls"
   ]
  },
  {
   "cell_type": "code",
   "execution_count": null,
   "id": "b85d5b28",
   "metadata": {},
   "outputs": [
    {
     "name": "stdout",
     "output_type": "stream",
     "text": [
      "{'correct_side': 270,\n",
      " 'drivable_area': 153,\n",
      " 'front_clearance_buffer': 57,\n",
      " 'lane_centering': 53,\n",
      " 'lane_keeping': 78,\n",
      " 'left_clearance_buffer': 82,\n",
      " 'right_clearance_buffer': 67,\n",
      " 'speed_limit': 0,\n",
      " 'vehicle_collision': 294,\n",
      " 'vehicle_ttc': 18,\n",
      " 'vru_acknowledgement': 5,\n",
      " 'vru_collision': 0,\n",
      " 'vru_offroad': 177,\n",
      " 'vru_onroad': 1,\n",
      " 'vru_ttc': 12}\n"
     ]
    }
   ],
   "source": [
    "pprint(correct_reasons)"
   ]
  },
  {
   "cell_type": "code",
   "execution_count": null,
   "id": "86c6aefb",
   "metadata": {},
   "outputs": [
    {
     "name": "stdout",
     "output_type": "stream",
     "text": [
      "{'correct_side': 56,\n",
      " 'drivable_area': 41,\n",
      " 'front_clearance_buffer': 19,\n",
      " 'lane_centering': 10,\n",
      " 'lane_keeping': 30,\n",
      " 'left_clearance_buffer': 16,\n",
      " 'right_clearance_buffer': 24,\n",
      " 'speed_limit': 0,\n",
      " 'vehicle_collision': 52,\n",
      " 'vehicle_ttc': 5,\n",
      " 'vru_acknowledgement': 7,\n",
      " 'vru_collision': 0,\n",
      " 'vru_offroad': 82,\n",
      " 'vru_onroad': 0,\n",
      " 'vru_ttc': 7}\n"
     ]
    }
   ],
   "source": [
    "pprint(wrong_reasons)"
   ]
  },
  {
   "cell_type": "code",
   "execution_count": null,
   "id": "fa415d5b",
   "metadata": {
    "vscode": {
     "languageId": "ruby"
    }
   },
   "outputs": [
    {
     "name": "stdout",
     "output_type": "stream",
     "text": [
      "[('vru_onroad', 100.0),\n",
      " ('vehicle_collision', 84.97109826589595),\n",
      " ('lane_centering', 84.12698412698413),\n",
      " ('left_clearance_buffer', 83.6734693877551),\n",
      " ('correct_side', 82.82208588957054),\n",
      " ('drivable_area', 78.8659793814433),\n",
      " ('vehicle_ttc', 78.26086956521739),\n",
      " ('front_clearance_buffer', 75.0),\n",
      " ('right_clearance_buffer', 73.62637362637363),\n",
      " ('lane_keeping', 72.22222222222221),\n",
      " ('vru_offroad', 68.33976833976834),\n",
      " ('vru_ttc', 63.1578947368421),\n",
      " ('vru_acknowledgement', 41.66666666666667),\n",
      " ('vru_collision', -1),\n",
      " ('speed_limit', -1)]\n"
     ]
    }
   ],
   "source": [
    "# Sum correct_reasons and wrong_reasons for each rule\n",
    "total_reasons = {rule: correct_reasons[rule] + wrong_reasons[rule] for rule in rule_names}\n",
    "\n",
    "# Calculate percentage of correctness for each rule\n",
    "percentage_correct = {\n",
    "    rule: (correct_reasons[rule] / total_reasons[rule] * 100 if total_reasons[rule] > 0 else -1)\n",
    "    for rule in rule_names\n",
    "}\n",
    "\n",
    "# Sort percentage_correct from highest to lowest and display as a list of tuples\n",
    "sorted_percentage = sorted(percentage_correct.items(), key=lambda item: item[1], reverse=True)\n",
    "pprint(sorted_percentage)"
   ]
  },
  {
   "cell_type": "code",
   "execution_count": null,
   "id": "4985057d",
   "metadata": {
    "vscode": {
     "languageId": "ruby"
    }
   },
   "outputs": [
    {
     "name": "stdout",
     "output_type": "stream",
     "text": [
      "[('right_clearance_buffer', 'U_1-e', 'U_1-d'), ('vehicle_collision', 'U_1-f', 'U_1-g'), ('lane_keeping', 'U_2-a', 'U_2-b'), ('vru_offroad', 'U_2-e', 'U_2-a'), ('vru_offroad', 'U_2-e', 'U_2-b'), ('left_clearance_buffer', 'U_2-d', 'U_2-c'), ('vru_offroad', 'U_2-e', 'U_2-c'), ('vru_offroad', 'U_2-e', 'U_2-d'), ('left_clearance_buffer', 'U_2-d', 'U_2-f'), ('vru_offroad', 'U_2-e', 'U_2-f'), ('vru_offroad', 'U_2-e', 'U_2-g'), ('vru_offroad', 'U_2-h', 'U_2-g'), ('right_clearance_buffer', 'U_3-e', 'U_3-a'), ('vehicle_collision', 'U_3-c', 'U_3-b'), ('vehicle_collision', 'U_3-c', 'U_3-h'), ('right_clearance_buffer', 'U_3-e', 'U_3-d'), ('vehicle_ttc', 'U_3-g', 'U_3-f'), ('vehicle_collision', 'U_4-a', 'U_4-f'), ('vehicle_collision', 'U_4-g', 'U_4-a'), ('vehicle_collision', 'U_4-i', 'U_4-a'), ('right_clearance_buffer', 'U_4-b', 'U_4-c'), ('vehicle_collision', 'U_4-g', 'U_4-f'), ('vehicle_collision', 'U_4-i', 'U_4-f'), ('vehicle_collision', 'U_4-g', 'U_4-i'), ('correct_side', 'U_5-f', 'U_5-a'), ('lane_keeping', 'U_5-d', 'U_5-b'), ('correct_side', 'U_5-f', 'U_5-b'), ('correct_side', 'U_5-f', 'U_5-c'), ('correct_side', 'U_5-f', 'U_5-d'), ('correct_side', 'U_5-f', 'U_5-e'), ('vehicle_ttc', 'U_6-a', 'U_6-e'), ('drivable_area', 'U_6-b', 'U_6-h'), ('drivable_area', 'U_6-c', 'U_6-h'), ('lane_centering', 'U_6-d', 'U_6-g'), ('vru_ttc', 'U_7-a', 'U_7-c'), ('front_clearance_buffer', 'U_7-e', 'U_7-b'), ('front_clearance_buffer', 'U_7-e', 'U_7-f'), ('vehicle_collision', 'U_8-b', 'U_8-a'), ('right_clearance_buffer', 'U_8-a', 'U_8-f'), ('right_clearance_buffer', 'U_8-g', 'U_8-a'), ('vehicle_collision', 'U_8-b', 'U_8-d'), ('vehicle_collision', 'U_8-b', 'U_8-f'), ('vehicle_collision', 'U_8-b', 'U_8-h'), ('vehicle_collision', 'U_8-d', 'U_8-h'), ('right_clearance_buffer', 'U_8-g', 'U_8-f'), ('vehicle_collision', 'U_9-a', 'U_9-d'), ('correct_side', 'U_9-c', 'U_9-b'), ('correct_side', 'U_9-c', 'U_9-e'), ('vehicle_collision', 'U_9-g', 'U_9-d'), ('left_clearance_buffer', 'U_9-f', 'U_9-e'), ('lane_centering', 'U_10-g', 'U_10-a'), ('left_clearance_buffer', 'U_10-k', 'U_10-a'), ('vehicle_collision', 'U_10-c', 'U_10-d'), ('correct_side', 'U_11-c', 'U_11-d'), ('correct_side', 'U_11-g', 'U_11-d'), ('vehicle_collision', 'U_11-e', 'U_11-h'), ('lane_keeping', 'U_11-f', 'U_11-i'), ('lane_keeping', 'U_12-a', 'U_12-c'), ('lane_centering', 'U_12-f', 'U_12-a'), ('lane_keeping', 'U_12-e', 'U_12-c'), ('lane_keeping', 'U_12-f', 'U_12-c'), ('lane_keeping', 'U_12-h', 'U_12-c'), ('vru_offroad', 'U_13-a', 'U_13-c'), ('vru_offroad', 'U_13-a', 'U_13-d'), ('vru_offroad', 'U_13-a', 'U_13-e'), ('vru_offroad', 'U_13-a', 'U_13-f'), ('vru_offroad', 'U_13-c', 'U_13-f'), ('vru_offroad', 'U_13-d', 'U_13-f'), ('vru_offroad', 'U_13-e', 'U_13-f'), ('right_clearance_buffer', 'U_14-d', 'U_14-g'), ('correct_side', 'U_15-b', 'U_15-a'), ('left_clearance_buffer', 'U_15-f', 'U_15-a'), ('vru_ttc', 'U_15-i', 'U_15-a'), ('correct_side', 'U_15-b', 'U_15-f'), ('vru_offroad', 'U_16-d', 'U_16-a'), ('vru_offroad', 'U_16-f', 'U_16-a'), ('lane_centering', 'U_16-a', 'U_16-g'), ('lane_keeping', 'U_16-i', 'U_16-a'), ('vehicle_collision', 'U_16-e', 'U_16-b'), ('vehicle_collision', 'U_16-j', 'U_16-b'), ('vru_offroad', 'U_16-d', 'U_16-c'), ('vru_offroad', 'U_16-f', 'U_16-c'), ('right_clearance_buffer', 'U_16-h', 'U_16-c'), ('lane_keeping', 'U_16-i', 'U_16-c'), ('vru_offroad', 'U_16-d', 'U_16-g'), ('vru_offroad', 'U_16-d', 'U_16-h'), ('vehicle_collision', 'U_16-e', 'U_16-h'), ('vehicle_collision', 'U_16-e', 'U_16-j'), ('vru_offroad', 'U_16-f', 'U_16-h'), ('lane_keeping', 'U_16-i', 'U_16-g'), ('vehicle_collision', 'U_17-a', 'U_17-f'), ('front_clearance_buffer', 'U_17-d', 'U_17-c'), ('vehicle_collision', 'U_18-e', 'U_18-g'), ('vehicle_collision', 'U_19-f', 'U_19-a'), ('correct_side', 'U_19-b', 'U_19-c'), ('correct_side', 'U_19-b', 'U_19-d'), ('correct_side', 'U_19-b', 'U_19-e'), ('correct_side', 'U_19-b', 'U_19-h'), ('correct_side', 'U_19-g', 'U_19-c'), ('correct_side', 'U_19-h', 'U_19-c'), ('vehicle_collision', 'U_20-f', 'U_20-a'), ('vehicle_collision', 'U_20-f', 'U_20-c'), ('correct_side', 'U_21-b', 'U_21-a'), ('front_clearance_buffer', 'U_21-g', 'U_21-e'), ('front_clearance_buffer', 'U_21-f', 'U_21-h'), ('right_clearance_buffer', 'U_22-b', 'U_22-a'), ('lane_keeping', 'U_22-d', 'U_22-a'), ('correct_side', 'U_22-e', 'U_22-a'), ('right_clearance_buffer', 'U_22-f', 'U_22-a'), ('lane_keeping', 'U_22-i', 'U_22-a'), ('correct_side', 'U_22-e', 'U_22-b'), ('right_clearance_buffer', 'U_22-b', 'U_22-h'), ('right_clearance_buffer', 'U_22-b', 'U_22-i'), ('correct_side', 'U_22-e', 'U_22-d'), ('lane_keeping', 'U_22-d', 'U_22-i'), ('correct_side', 'U_22-e', 'U_22-f'), ('correct_side', 'U_22-e', 'U_22-g'), ('correct_side', 'U_22-e', 'U_22-h'), ('correct_side', 'U_22-e', 'U_22-i'), ('correct_side', 'U_22-e', 'U_22-j'), ('right_clearance_buffer', 'U_22-f', 'U_22-h'), ('vru_offroad', 'U_23-a', 'U_23-b'), ('vru_offroad', 'U_23-a', 'U_23-c'), ('vru_offroad', 'U_23-a', 'U_23-d'), ('vru_offroad', 'U_23-a', 'U_23-f'), ('vru_offroad', 'U_23-g', 'U_23-a'), ('front_clearance_buffer', 'U_23-b', 'U_23-c'), ('front_clearance_buffer', 'U_23-b', 'U_23-d'), ('vru_offroad', 'U_23-g', 'U_23-b'), ('front_clearance_buffer', 'U_23-f', 'U_23-c'), ('vru_offroad', 'U_23-g', 'U_23-c'), ('front_clearance_buffer', 'U_23-f', 'U_23-d'), ('vru_offroad', 'U_23-g', 'U_23-d'), ('vru_offroad', 'U_23-g', 'U_23-e'), ('vru_offroad', 'U_23-g', 'U_23-f'), ('vru_ttc', 'U_24-b', 'U_24-c'), ('vru_ttc', 'U_24-b', 'U_24-d'), ('vru_ttc', 'U_24-b', 'U_24-e'), ('lane_keeping', 'U_24-b', 'U_24-f'), ('vru_ttc', 'U_24-b', 'U_24-g'), ('lane_keeping', 'U_24-b', 'U_24-h'), ('lane_keeping', 'U_24-c', 'U_24-f'), ('lane_keeping', 'U_24-c', 'U_24-h'), ('lane_keeping', 'U_24-d', 'U_24-f'), ('lane_keeping', 'U_24-d', 'U_24-h'), ('lane_keeping', 'U_24-e', 'U_24-f'), ('lane_keeping', 'U_24-e', 'U_24-h'), ('front_clearance_buffer', 'U_25-a', 'U_25-b'), ('front_clearance_buffer', 'U_25-a', 'U_25-d'), ('left_clearance_buffer', 'U_25-a', 'U_25-f'), ('front_clearance_buffer', 'U_25-f', 'U_25-b'), ('front_clearance_buffer', 'U_25-h', 'U_25-b'), ('front_clearance_buffer', 'U_25-h', 'U_25-d'), ('left_clearance_buffer', 'U_25-h', 'U_25-f'), ('vehicle_collision', 'U_26-d', 'U_26-b'), ('front_clearance_buffer', 'U_27-d', 'U_27-b'), ('drivable_area', 'U_27-e', 'U_27-f'), ('right_clearance_buffer', 'U_28-d', 'U_28-a'), ('vru_offroad', 'U_29-b', 'U_29-a'), ('vru_offroad', 'U_29-b', 'U_29-e'), ('correct_side', 'U_30-b', 'U_30-a'), ('correct_side', 'U_30-b', 'U_30-d'), ('correct_side', 'U_30-b', 'U_30-e'), ('right_clearance_buffer', 'U_30-d', 'U_30-e'), ('correct_side', 'U_31-c', 'U_31-a'), ('lane_keeping', 'U_31-d', 'U_31-a'), ('correct_side', 'U_31-e', 'U_31-a'), ('correct_side', 'U_31-c', 'U_31-b'), ('correct_side', 'U_31-e', 'U_31-b'), ('correct_side', 'U_31-c', 'U_31-d'), ('correct_side', 'U_31-e', 'U_31-d'), ('lane_keeping', 'U_33-a', 'U_33-c'), ('right_clearance_buffer', 'U_33-e', 'U_33-b'), ('vru_offroad', 'U_35-a', 'U_35-c'), ('vru_offroad', 'U_35-d', 'U_35-c'), ('vru_offroad', 'U_35-d', 'U_35-e'), ('vru_offroad', 'U_36-a', 'U_36-d'), ('vru_offroad', 'U_36-c', 'U_36-b'), ('vehicle_collision', 'U_37-a', 'U_37-d'), ('lane_keeping', 'U_37-c', 'U_37-b'), ('lane_keeping', 'U_37-c', 'U_37-d'), ('lane_keeping', 'U_37-c', 'U_37-e'), ('vru_acknowledgement', 'U_38-a', 'U_38-b'), ('lane_keeping', 'U_39-c', 'U_39-a'), ('correct_side', 'U_39-d', 'U_39-a'), ('correct_side', 'U_39-d', 'U_39-b'), ('correct_side', 'U_39-d', 'U_39-c'), ('vru_acknowledgement', 'U_40-a', 'U_40-c'), ('vru_offroad', 'U_40-d', 'U_40-a'), ('vru_offroad', 'U_40-d', 'U_40-c'), ('vehicle_collision', 'U_41-b', 'U_41-a'), ('vehicle_collision', 'U_41-b', 'U_41-c'), ('vehicle_collision', 'U_41-b', 'U_41-d'), ('drivable_area', 'U_42-a', 'U_42-b'), ('drivable_area', 'U_42-a', 'U_42-c'), ('drivable_area', 'U_42-a', 'U_42-d'), ('drivable_area', 'U_42-a', 'U_42-e'), ('left_clearance_buffer', 'U_42-d', 'U_42-b'), ('lane_keeping', 'U_43-b', 'U_43-a'), ('vru_offroad', 'U_43-d', 'U_43-a'), ('vru_offroad', 'U_43-d', 'U_43-c'), ('drivable_area', 'U_44-b', 'U_44-c'), ('drivable_area', 'U_44-b', 'U_44-d'), ('drivable_area', 'U_44-d', 'U_44-e'), ('right_clearance_buffer', 'U_46-c', 'U_46-a'), ('right_clearance_buffer', 'U_46-b', 'U_46-e'), ('right_clearance_buffer', 'U_46-c', 'U_46-e'), ('left_clearance_buffer', 'U_46-d', 'U_46-e'), ('vru_offroad', 'U_47-a', 'U_47-d'), ('vru_offroad', 'U_47-a', 'U_47-e'), ('vehicle_collision', 'U_47-b', 'U_47-c'), ('front_clearance_buffer', 'U_48-c', 'U_48-b'), ('drivable_area', 'U_49-a', 'U_49-d'), ('vehicle_collision', 'U_49-b', 'U_49-d'), ('right_clearance_buffer', 'U_50-d', 'U_50-b'), ('vru_offroad', 'U_51-b', 'U_51-a'), ('vru_offroad', 'U_51-b', 'U_51-h'), ('vru_offroad', 'U_51-b', 'U_51-i'), ('vru_offroad', 'U_51-f', 'U_51-c'), ('vru_offroad', 'U_51-c', 'U_51-i'), ('vru_offroad', 'U_51-e', 'U_51-f'), ('vru_offroad', 'U_51-e', 'U_51-i'), ('front_clearance_buffer', 'U_52-a', 'U_52-b'), ('front_clearance_buffer', 'U_52-a', 'U_52-e'), ('drivable_area', 'U_52-f', 'U_52-c'), ('correct_side', 'U_52-c', 'U_52-i'), ('lane_keeping', 'U_52-d', 'U_52-h'), ('drivable_area', 'U_52-f', 'U_52-g'), ('drivable_area', 'U_52-f', 'U_52-i'), ('correct_side', 'U_52-g', 'U_52-i'), ('vru_offroad', 'U_53-b', 'U_53-d'), ('vru_offroad', 'U_53-b', 'U_53-e'), ('vru_offroad', 'U_53-b', 'U_53-g'), ('vru_offroad', 'U_53-g', 'U_53-e'), ('lane_centering', 'U_54-c', 'U_54-a'), ('vru_offroad', 'U_54-l', 'U_54-a'), ('vru_offroad', 'U_54-h', 'U_54-c'), ('vru_offroad', 'U_54-j', 'U_54-c'), ('vru_offroad', 'U_54-k', 'U_54-c'), ('vru_offroad', 'U_54-l', 'U_54-c'), ('vru_offroad', 'U_54-k', 'U_54-d'), ('vru_offroad', 'U_54-l', 'U_54-d'), ('vru_offroad', 'U_54-k', 'U_54-g'), ('vru_offroad', 'U_54-h', 'U_54-j'), ('vru_offroad', 'U_54-l', 'U_54-h'), ('vru_offroad', 'U_54-k', 'U_54-j'), ('vru_offroad', 'U_54-l', 'U_54-j'), ('drivable_area', 'U_55-b', 'U_55-a'), ('lane_centering', 'U_55-f', 'U_55-a'), ('drivable_area', 'U_55-b', 'U_55-c'), ('drivable_area', 'U_55-b', 'U_55-d'), ('drivable_area', 'U_55-b', 'U_55-e'), ('drivable_area', 'U_55-b', 'U_55-f'), ('vru_offroad', 'U_55-c', 'U_55-e'), ('left_clearance_buffer', 'U_56-a', 'U_56-b'), ('left_clearance_buffer', 'U_56-a', 'U_56-d'), ('left_clearance_buffer', 'U_56-a', 'U_56-e'), ('vehicle_collision', 'U_56-c', 'U_56-b'), ('vehicle_collision', 'U_56-c', 'U_56-d'), ('vehicle_collision', 'U_56-c', 'U_56-e'), ('vehicle_collision', 'U_56-c', 'U_56-f'), ('vehicle_collision', 'U_56-c', 'U_56-g'), ('vehicle_collision', 'U_56-c', 'U_56-h'), ('right_clearance_buffer', 'U_56-d', 'U_56-e'), ('left_clearance_buffer', 'U_56-f', 'U_56-d'), ('left_clearance_buffer', 'U_56-g', 'U_56-d'), ('left_clearance_buffer', 'U_56-f', 'U_56-e'), ('left_clearance_buffer', 'U_56-g', 'U_56-e'), ('lane_keeping', 'U_57-e', 'U_57-a'), ('vru_offroad', 'U_57-g', 'U_57-a'), ('vehicle_ttc', 'U_57-c', 'U_57-d'), ('vru_offroad', 'U_57-g', 'U_57-e'), ('vru_offroad', 'U_58-d', 'U_58-a'), ('correct_side', 'U_58-b', 'U_58-c'), ('correct_side', 'U_58-f', 'U_58-e'), ('vru_offroad', 'U_59-d', 'U_59-a'), ('vru_offroad', 'U_59-g', 'U_59-a'), ('vru_ttc', 'U_59-f', 'U_59-e'), ('vru_offroad', 'U_60-b', 'U_60-a'), ('vru_offroad', 'U_60-e', 'U_60-a'), ('vru_offroad', 'U_60-b', 'U_60-d'), ('vru_offroad', 'U_60-b', 'U_60-e'), ('vru_offroad', 'U_60-f', 'U_60-d'), ('drivable_area', 'U_61-a', 'U_61-b'), ('drivable_area', 'U_61-a', 'U_61-f'), ('vehicle_collision', 'U_62-g', 'U_62-b'), ('front_clearance_buffer', 'U_62-d', 'U_62-f'), ('drivable_area', 'S_1-c', 'S_1-b'), ('correct_side', 'S_1-e', 'S_1-b'), ('drivable_area', 'S_1-f', 'S_1-b'), ('drivable_area', 'S_1-c', 'S_1-e'), ('drivable_area', 'S_2-c', 'S_2-e'), ('vehicle_collision', 'S_3-c', 'S_3-a'), ('vehicle_collision', 'S_3-d', 'S_3-a'), ('vehicle_collision', 'S_3-c', 'S_3-b'), ('lane_centering', 'S_4-d', 'S_4-a'), ('correct_side', 'S_4-e', 'S_4-a'), ('correct_side', 'S_4-e', 'S_4-b'), ('right_clearance_buffer', 'S_5-b', 'S_5-a'), ('correct_side', 'S_5-e', 'S_5-c'), ('vru_offroad', 'S_6-b', 'S_6-c'), ('vru_offroad', 'S_6-f', 'S_6-c'), ('vehicle_ttc', 'S_7-d', 'S_7-a'), ('lane_centering', 'S_7-a', 'S_7-e'), ('vehicle_ttc', 'S_7-d', 'S_7-e'), ('drivable_area', 'S_8-a', 'S_8-c'), ('drivable_area', 'S_8-a', 'S_8-d'), ('drivable_area', 'S_8-b', 'S_8-c'), ('drivable_area', 'S_8-b', 'S_8-d'), ('correct_side', 'S_8-c', 'S_8-d'), ('lane_centering', 'S_10-a', 'S_10-c'), ('correct_side', 'S_10-d', 'S_10-c'), ('correct_side', 'S_10-f', 'S_10-e'), ('drivable_area', 'S_12-a', 'S_12-c'), ('drivable_area', 'S_12-d', 'S_12-a'), ('drivable_area', 'S_12-d', 'S_12-b'), ('drivable_area', 'S_12-d', 'S_12-c'), ('vru_offroad', 'S_13-b', 'S_13-e'), ('vehicle_collision', 'S_14-c', 'S_14-a'), ('vehicle_collision', 'S_14-c', 'S_14-e'), ('correct_side', 'S_15-c', 'S_15-a'), ('correct_side', 'S_15-c', 'S_15-b'), ('vru_offroad', 'S_15-b', 'S_15-d'), ('correct_side', 'S_15-c', 'S_15-d'), ('correct_side', 'S_16-c', 'S_16-a'), ('drivable_area', 'S_19-c', 'S_19-e'), ('vru_acknowledgement', 'S_21-a', 'S_21-d'), ('lane_centering', 'S_21-b', 'S_21-d'), ('correct_side', 'S_22-a', 'S_22-b'), ('correct_side', 'S_22-d', 'S_22-a'), ('vru_acknowledgement', 'S_23-a', 'S_23-b'), ('vru_acknowledgement', 'S_23-a', 'S_23-d'), ('vru_acknowledgement', 'S_23-e', 'S_23-b'), ('correct_side', 'S_23-c', 'S_23-d'), ('vru_acknowledgement', 'S_23-e', 'S_23-d'), ('vehicle_collision', 'S_25-d', 'S_25-c'), ('right_clearance_buffer', 'S_26-b', 'S_26-a'), ('drivable_area', 'S_27-b', 'S_27-d'), ('vehicle_collision', 'S_28-a', 'S_28-c'), ('vehicle_collision', 'S_28-d', 'S_28-b'), ('vehicle_collision', 'S_29-b', 'S_29-a'), ('vehicle_collision', 'S_29-d', 'S_29-a'), ('vehicle_collision', 'S_29-d', 'S_29-e'), ('drivable_area', 'S_30-c', 'S_30-a'), ('drivable_area', 'S_30-d', 'S_30-a'), ('drivable_area', 'S_30-c', 'S_30-b'), ('drivable_area', 'S_30-d', 'S_30-b'), ('drivable_area', 'S_30-c', 'S_30-e'), ('drivable_area', 'S_30-d', 'S_30-e')]\n"
     ]
    }
   ],
   "source": [
    "print(incorrect)"
   ]
  },
  {
   "cell_type": "code",
   "execution_count": null,
   "id": "b7c8215f",
   "metadata": {
    "vscode": {
     "languageId": "ruby"
    }
   },
   "outputs": [
    {
     "name": "stdout",
     "output_type": "stream",
     "text": [
      "[(0, ('right_clearance_buffer', 'U_1-e', 'U_1-d')), (1, ('vehicle_collision', 'U_1-f', 'U_1-g')), (2, ('lane_keeping', 'U_2-a', 'U_2-b')), (3, ('vru_offroad', 'U_2-e', 'U_2-a')), (4, ('vru_offroad', 'U_2-e', 'U_2-b')), (5, ('left_clearance_buffer', 'U_2-d', 'U_2-c')), (6, ('vru_offroad', 'U_2-e', 'U_2-c')), (7, ('vru_offroad', 'U_2-e', 'U_2-d')), (8, ('left_clearance_buffer', 'U_2-d', 'U_2-f')), (9, ('vru_offroad', 'U_2-e', 'U_2-f')), (10, ('vru_offroad', 'U_2-e', 'U_2-g')), (11, ('vru_offroad', 'U_2-h', 'U_2-g')), (12, ('right_clearance_buffer', 'U_3-e', 'U_3-a')), (13, ('vehicle_collision', 'U_3-c', 'U_3-b')), (14, ('vehicle_collision', 'U_3-c', 'U_3-h')), (15, ('right_clearance_buffer', 'U_3-e', 'U_3-d')), (16, ('vehicle_ttc', 'U_3-g', 'U_3-f')), (17, ('vehicle_collision', 'U_4-a', 'U_4-f')), (18, ('vehicle_collision', 'U_4-g', 'U_4-a')), (19, ('vehicle_collision', 'U_4-i', 'U_4-a')), (20, ('right_clearance_buffer', 'U_4-b', 'U_4-c')), (21, ('vehicle_collision', 'U_4-g', 'U_4-f')), (22, ('vehicle_collision', 'U_4-i', 'U_4-f')), (23, ('vehicle_collision', 'U_4-g', 'U_4-i')), (24, ('correct_side', 'U_5-f', 'U_5-a')), (25, ('lane_keeping', 'U_5-d', 'U_5-b')), (26, ('correct_side', 'U_5-f', 'U_5-b')), (27, ('correct_side', 'U_5-f', 'U_5-c')), (28, ('correct_side', 'U_5-f', 'U_5-d')), (29, ('correct_side', 'U_5-f', 'U_5-e')), (30, ('vehicle_ttc', 'U_6-a', 'U_6-e')), (31, ('drivable_area', 'U_6-b', 'U_6-h')), (32, ('drivable_area', 'U_6-c', 'U_6-h')), (33, ('lane_centering', 'U_6-d', 'U_6-g')), (34, ('vru_ttc', 'U_7-a', 'U_7-c')), (35, ('front_clearance_buffer', 'U_7-e', 'U_7-b')), (36, ('front_clearance_buffer', 'U_7-e', 'U_7-f')), (37, ('vehicle_collision', 'U_8-b', 'U_8-a')), (38, ('right_clearance_buffer', 'U_8-a', 'U_8-f')), (39, ('right_clearance_buffer', 'U_8-g', 'U_8-a')), (40, ('vehicle_collision', 'U_8-b', 'U_8-d')), (41, ('vehicle_collision', 'U_8-b', 'U_8-f')), (42, ('vehicle_collision', 'U_8-b', 'U_8-h')), (43, ('vehicle_collision', 'U_8-d', 'U_8-h')), (44, ('right_clearance_buffer', 'U_8-g', 'U_8-f')), (45, ('vehicle_collision', 'U_9-a', 'U_9-d')), (46, ('correct_side', 'U_9-c', 'U_9-b')), (47, ('correct_side', 'U_9-c', 'U_9-e')), (48, ('vehicle_collision', 'U_9-g', 'U_9-d')), (49, ('left_clearance_buffer', 'U_9-f', 'U_9-e')), (50, ('lane_centering', 'U_10-g', 'U_10-a')), (51, ('left_clearance_buffer', 'U_10-k', 'U_10-a')), (52, ('vehicle_collision', 'U_10-c', 'U_10-d')), (53, ('correct_side', 'U_11-c', 'U_11-d')), (54, ('correct_side', 'U_11-g', 'U_11-d')), (55, ('vehicle_collision', 'U_11-e', 'U_11-h')), (56, ('lane_keeping', 'U_11-f', 'U_11-i')), (57, ('lane_keeping', 'U_12-a', 'U_12-c')), (58, ('lane_centering', 'U_12-f', 'U_12-a')), (59, ('lane_keeping', 'U_12-e', 'U_12-c')), (60, ('lane_keeping', 'U_12-f', 'U_12-c')), (61, ('lane_keeping', 'U_12-h', 'U_12-c')), (62, ('vru_offroad', 'U_13-a', 'U_13-c')), (63, ('vru_offroad', 'U_13-a', 'U_13-d')), (64, ('vru_offroad', 'U_13-a', 'U_13-e')), (65, ('vru_offroad', 'U_13-a', 'U_13-f')), (66, ('vru_offroad', 'U_13-c', 'U_13-f')), (67, ('vru_offroad', 'U_13-d', 'U_13-f')), (68, ('vru_offroad', 'U_13-e', 'U_13-f')), (69, ('right_clearance_buffer', 'U_14-d', 'U_14-g')), (70, ('correct_side', 'U_15-b', 'U_15-a')), (71, ('left_clearance_buffer', 'U_15-f', 'U_15-a')), (72, ('vru_ttc', 'U_15-i', 'U_15-a')), (73, ('correct_side', 'U_15-b', 'U_15-f')), (74, ('vru_offroad', 'U_16-d', 'U_16-a')), (75, ('vru_offroad', 'U_16-f', 'U_16-a')), (76, ('lane_centering', 'U_16-a', 'U_16-g')), (77, ('lane_keeping', 'U_16-i', 'U_16-a')), (78, ('vehicle_collision', 'U_16-e', 'U_16-b')), (79, ('vehicle_collision', 'U_16-j', 'U_16-b')), (80, ('vru_offroad', 'U_16-d', 'U_16-c')), (81, ('vru_offroad', 'U_16-f', 'U_16-c')), (82, ('right_clearance_buffer', 'U_16-h', 'U_16-c')), (83, ('lane_keeping', 'U_16-i', 'U_16-c')), (84, ('vru_offroad', 'U_16-d', 'U_16-g')), (85, ('vru_offroad', 'U_16-d', 'U_16-h')), (86, ('vehicle_collision', 'U_16-e', 'U_16-h')), (87, ('vehicle_collision', 'U_16-e', 'U_16-j')), (88, ('vru_offroad', 'U_16-f', 'U_16-h')), (89, ('lane_keeping', 'U_16-i', 'U_16-g')), (90, ('vehicle_collision', 'U_17-a', 'U_17-f')), (91, ('front_clearance_buffer', 'U_17-d', 'U_17-c')), (92, ('vehicle_collision', 'U_18-e', 'U_18-g')), (93, ('vehicle_collision', 'U_19-f', 'U_19-a')), (94, ('correct_side', 'U_19-b', 'U_19-c')), (95, ('correct_side', 'U_19-b', 'U_19-d')), (96, ('correct_side', 'U_19-b', 'U_19-e')), (97, ('correct_side', 'U_19-b', 'U_19-h')), (98, ('correct_side', 'U_19-g', 'U_19-c')), (99, ('correct_side', 'U_19-h', 'U_19-c')), (100, ('vehicle_collision', 'U_20-f', 'U_20-a')), (101, ('vehicle_collision', 'U_20-f', 'U_20-c')), (102, ('correct_side', 'U_21-b', 'U_21-a')), (103, ('front_clearance_buffer', 'U_21-g', 'U_21-e')), (104, ('front_clearance_buffer', 'U_21-f', 'U_21-h')), (105, ('right_clearance_buffer', 'U_22-b', 'U_22-a')), (106, ('lane_keeping', 'U_22-d', 'U_22-a')), (107, ('correct_side', 'U_22-e', 'U_22-a')), (108, ('right_clearance_buffer', 'U_22-f', 'U_22-a')), (109, ('lane_keeping', 'U_22-i', 'U_22-a')), (110, ('correct_side', 'U_22-e', 'U_22-b')), (111, ('right_clearance_buffer', 'U_22-b', 'U_22-h')), (112, ('right_clearance_buffer', 'U_22-b', 'U_22-i')), (113, ('correct_side', 'U_22-e', 'U_22-d')), (114, ('lane_keeping', 'U_22-d', 'U_22-i')), (115, ('correct_side', 'U_22-e', 'U_22-f')), (116, ('correct_side', 'U_22-e', 'U_22-g')), (117, ('correct_side', 'U_22-e', 'U_22-h')), (118, ('correct_side', 'U_22-e', 'U_22-i')), (119, ('correct_side', 'U_22-e', 'U_22-j')), (120, ('right_clearance_buffer', 'U_22-f', 'U_22-h')), (121, ('vru_offroad', 'U_23-a', 'U_23-b')), (122, ('vru_offroad', 'U_23-a', 'U_23-c')), (123, ('vru_offroad', 'U_23-a', 'U_23-d')), (124, ('vru_offroad', 'U_23-a', 'U_23-f')), (125, ('vru_offroad', 'U_23-g', 'U_23-a')), (126, ('front_clearance_buffer', 'U_23-b', 'U_23-c')), (127, ('front_clearance_buffer', 'U_23-b', 'U_23-d')), (128, ('vru_offroad', 'U_23-g', 'U_23-b')), (129, ('front_clearance_buffer', 'U_23-f', 'U_23-c')), (130, ('vru_offroad', 'U_23-g', 'U_23-c')), (131, ('front_clearance_buffer', 'U_23-f', 'U_23-d')), (132, ('vru_offroad', 'U_23-g', 'U_23-d')), (133, ('vru_offroad', 'U_23-g', 'U_23-e')), (134, ('vru_offroad', 'U_23-g', 'U_23-f')), (135, ('vru_ttc', 'U_24-b', 'U_24-c')), (136, ('vru_ttc', 'U_24-b', 'U_24-d')), (137, ('vru_ttc', 'U_24-b', 'U_24-e')), (138, ('lane_keeping', 'U_24-b', 'U_24-f')), (139, ('vru_ttc', 'U_24-b', 'U_24-g')), (140, ('lane_keeping', 'U_24-b', 'U_24-h')), (141, ('lane_keeping', 'U_24-c', 'U_24-f')), (142, ('lane_keeping', 'U_24-c', 'U_24-h')), (143, ('lane_keeping', 'U_24-d', 'U_24-f')), (144, ('lane_keeping', 'U_24-d', 'U_24-h')), (145, ('lane_keeping', 'U_24-e', 'U_24-f')), (146, ('lane_keeping', 'U_24-e', 'U_24-h')), (147, ('front_clearance_buffer', 'U_25-a', 'U_25-b')), (148, ('front_clearance_buffer', 'U_25-a', 'U_25-d')), (149, ('left_clearance_buffer', 'U_25-a', 'U_25-f')), (150, ('front_clearance_buffer', 'U_25-f', 'U_25-b')), (151, ('front_clearance_buffer', 'U_25-h', 'U_25-b')), (152, ('front_clearance_buffer', 'U_25-h', 'U_25-d')), (153, ('left_clearance_buffer', 'U_25-h', 'U_25-f')), (154, ('vehicle_collision', 'U_26-d', 'U_26-b')), (155, ('front_clearance_buffer', 'U_27-d', 'U_27-b')), (156, ('drivable_area', 'U_27-e', 'U_27-f')), (157, ('right_clearance_buffer', 'U_28-d', 'U_28-a')), (158, ('vru_offroad', 'U_29-b', 'U_29-a')), (159, ('vru_offroad', 'U_29-b', 'U_29-e')), (160, ('correct_side', 'U_30-b', 'U_30-a')), (161, ('correct_side', 'U_30-b', 'U_30-d')), (162, ('correct_side', 'U_30-b', 'U_30-e')), (163, ('right_clearance_buffer', 'U_30-d', 'U_30-e')), (164, ('correct_side', 'U_31-c', 'U_31-a')), (165, ('lane_keeping', 'U_31-d', 'U_31-a')), (166, ('correct_side', 'U_31-e', 'U_31-a')), (167, ('correct_side', 'U_31-c', 'U_31-b')), (168, ('correct_side', 'U_31-e', 'U_31-b')), (169, ('correct_side', 'U_31-c', 'U_31-d')), (170, ('correct_side', 'U_31-e', 'U_31-d')), (171, ('lane_keeping', 'U_33-a', 'U_33-c')), (172, ('right_clearance_buffer', 'U_33-e', 'U_33-b')), (173, ('vru_offroad', 'U_35-a', 'U_35-c')), (174, ('vru_offroad', 'U_35-d', 'U_35-c')), (175, ('vru_offroad', 'U_35-d', 'U_35-e')), (176, ('vru_offroad', 'U_36-a', 'U_36-d')), (177, ('vru_offroad', 'U_36-c', 'U_36-b')), (178, ('vehicle_collision', 'U_37-a', 'U_37-d')), (179, ('lane_keeping', 'U_37-c', 'U_37-b')), (180, ('lane_keeping', 'U_37-c', 'U_37-d')), (181, ('lane_keeping', 'U_37-c', 'U_37-e')), (182, ('vru_acknowledgement', 'U_38-a', 'U_38-b')), (183, ('lane_keeping', 'U_39-c', 'U_39-a')), (184, ('correct_side', 'U_39-d', 'U_39-a')), (185, ('correct_side', 'U_39-d', 'U_39-b')), (186, ('correct_side', 'U_39-d', 'U_39-c')), (187, ('vru_acknowledgement', 'U_40-a', 'U_40-c')), (188, ('vru_offroad', 'U_40-d', 'U_40-a')), (189, ('vru_offroad', 'U_40-d', 'U_40-c')), (190, ('vehicle_collision', 'U_41-b', 'U_41-a')), (191, ('vehicle_collision', 'U_41-b', 'U_41-c')), (192, ('vehicle_collision', 'U_41-b', 'U_41-d')), (193, ('drivable_area', 'U_42-a', 'U_42-b')), (194, ('drivable_area', 'U_42-a', 'U_42-c')), (195, ('drivable_area', 'U_42-a', 'U_42-d')), (196, ('drivable_area', 'U_42-a', 'U_42-e')), (197, ('left_clearance_buffer', 'U_42-d', 'U_42-b')), (198, ('lane_keeping', 'U_43-b', 'U_43-a')), (199, ('vru_offroad', 'U_43-d', 'U_43-a')), (200, ('vru_offroad', 'U_43-d', 'U_43-c')), (201, ('drivable_area', 'U_44-b', 'U_44-c')), (202, ('drivable_area', 'U_44-b', 'U_44-d')), (203, ('drivable_area', 'U_44-d', 'U_44-e')), (204, ('right_clearance_buffer', 'U_46-c', 'U_46-a')), (205, ('right_clearance_buffer', 'U_46-b', 'U_46-e')), (206, ('right_clearance_buffer', 'U_46-c', 'U_46-e')), (207, ('left_clearance_buffer', 'U_46-d', 'U_46-e')), (208, ('vru_offroad', 'U_47-a', 'U_47-d')), (209, ('vru_offroad', 'U_47-a', 'U_47-e')), (210, ('vehicle_collision', 'U_47-b', 'U_47-c')), (211, ('front_clearance_buffer', 'U_48-c', 'U_48-b')), (212, ('drivable_area', 'U_49-a', 'U_49-d')), (213, ('vehicle_collision', 'U_49-b', 'U_49-d')), (214, ('right_clearance_buffer', 'U_50-d', 'U_50-b')), (215, ('vru_offroad', 'U_51-b', 'U_51-a')), (216, ('vru_offroad', 'U_51-b', 'U_51-h')), (217, ('vru_offroad', 'U_51-b', 'U_51-i')), (218, ('vru_offroad', 'U_51-f', 'U_51-c')), (219, ('vru_offroad', 'U_51-c', 'U_51-i')), (220, ('vru_offroad', 'U_51-e', 'U_51-f')), (221, ('vru_offroad', 'U_51-e', 'U_51-i')), (222, ('front_clearance_buffer', 'U_52-a', 'U_52-b')), (223, ('front_clearance_buffer', 'U_52-a', 'U_52-e')), (224, ('drivable_area', 'U_52-f', 'U_52-c')), (225, ('correct_side', 'U_52-c', 'U_52-i')), (226, ('lane_keeping', 'U_52-d', 'U_52-h')), (227, ('drivable_area', 'U_52-f', 'U_52-g')), (228, ('drivable_area', 'U_52-f', 'U_52-i')), (229, ('correct_side', 'U_52-g', 'U_52-i')), (230, ('vru_offroad', 'U_53-b', 'U_53-d')), (231, ('vru_offroad', 'U_53-b', 'U_53-e')), (232, ('vru_offroad', 'U_53-b', 'U_53-g')), (233, ('vru_offroad', 'U_53-g', 'U_53-e')), (234, ('lane_centering', 'U_54-c', 'U_54-a')), (235, ('vru_offroad', 'U_54-l', 'U_54-a')), (236, ('vru_offroad', 'U_54-h', 'U_54-c')), (237, ('vru_offroad', 'U_54-j', 'U_54-c')), (238, ('vru_offroad', 'U_54-k', 'U_54-c')), (239, ('vru_offroad', 'U_54-l', 'U_54-c')), (240, ('vru_offroad', 'U_54-k', 'U_54-d')), (241, ('vru_offroad', 'U_54-l', 'U_54-d')), (242, ('vru_offroad', 'U_54-k', 'U_54-g')), (243, ('vru_offroad', 'U_54-h', 'U_54-j')), (244, ('vru_offroad', 'U_54-l', 'U_54-h')), (245, ('vru_offroad', 'U_54-k', 'U_54-j')), (246, ('vru_offroad', 'U_54-l', 'U_54-j')), (247, ('drivable_area', 'U_55-b', 'U_55-a')), (248, ('lane_centering', 'U_55-f', 'U_55-a')), (249, ('drivable_area', 'U_55-b', 'U_55-c')), (250, ('drivable_area', 'U_55-b', 'U_55-d')), (251, ('drivable_area', 'U_55-b', 'U_55-e')), (252, ('drivable_area', 'U_55-b', 'U_55-f')), (253, ('vru_offroad', 'U_55-c', 'U_55-e')), (254, ('left_clearance_buffer', 'U_56-a', 'U_56-b')), (255, ('left_clearance_buffer', 'U_56-a', 'U_56-d')), (256, ('left_clearance_buffer', 'U_56-a', 'U_56-e')), (257, ('vehicle_collision', 'U_56-c', 'U_56-b')), (258, ('vehicle_collision', 'U_56-c', 'U_56-d')), (259, ('vehicle_collision', 'U_56-c', 'U_56-e')), (260, ('vehicle_collision', 'U_56-c', 'U_56-f')), (261, ('vehicle_collision', 'U_56-c', 'U_56-g')), (262, ('vehicle_collision', 'U_56-c', 'U_56-h')), (263, ('right_clearance_buffer', 'U_56-d', 'U_56-e')), (264, ('left_clearance_buffer', 'U_56-f', 'U_56-d')), (265, ('left_clearance_buffer', 'U_56-g', 'U_56-d')), (266, ('left_clearance_buffer', 'U_56-f', 'U_56-e')), (267, ('left_clearance_buffer', 'U_56-g', 'U_56-e')), (268, ('lane_keeping', 'U_57-e', 'U_57-a')), (269, ('vru_offroad', 'U_57-g', 'U_57-a')), (270, ('vehicle_ttc', 'U_57-c', 'U_57-d')), (271, ('vru_offroad', 'U_57-g', 'U_57-e')), (272, ('vru_offroad', 'U_58-d', 'U_58-a')), (273, ('correct_side', 'U_58-b', 'U_58-c')), (274, ('correct_side', 'U_58-f', 'U_58-e')), (275, ('vru_offroad', 'U_59-d', 'U_59-a')), (276, ('vru_offroad', 'U_59-g', 'U_59-a')), (277, ('vru_ttc', 'U_59-f', 'U_59-e')), (278, ('vru_offroad', 'U_60-b', 'U_60-a')), (279, ('vru_offroad', 'U_60-e', 'U_60-a')), (280, ('vru_offroad', 'U_60-b', 'U_60-d')), (281, ('vru_offroad', 'U_60-b', 'U_60-e')), (282, ('vru_offroad', 'U_60-f', 'U_60-d')), (283, ('drivable_area', 'U_61-a', 'U_61-b')), (284, ('drivable_area', 'U_61-a', 'U_61-f')), (285, ('vehicle_collision', 'U_62-g', 'U_62-b')), (286, ('front_clearance_buffer', 'U_62-d', 'U_62-f')), (287, ('drivable_area', 'S_1-c', 'S_1-b')), (288, ('correct_side', 'S_1-e', 'S_1-b')), (289, ('drivable_area', 'S_1-f', 'S_1-b')), (290, ('drivable_area', 'S_1-c', 'S_1-e')), (291, ('drivable_area', 'S_2-c', 'S_2-e')), (292, ('vehicle_collision', 'S_3-c', 'S_3-a')), (293, ('vehicle_collision', 'S_3-d', 'S_3-a')), (294, ('vehicle_collision', 'S_3-c', 'S_3-b')), (295, ('lane_centering', 'S_4-d', 'S_4-a')), (296, ('correct_side', 'S_4-e', 'S_4-a')), (297, ('correct_side', 'S_4-e', 'S_4-b')), (298, ('right_clearance_buffer', 'S_5-b', 'S_5-a')), (299, ('correct_side', 'S_5-e', 'S_5-c')), (300, ('vru_offroad', 'S_6-b', 'S_6-c')), (301, ('vru_offroad', 'S_6-f', 'S_6-c')), (302, ('vehicle_ttc', 'S_7-d', 'S_7-a')), (303, ('lane_centering', 'S_7-a', 'S_7-e')), (304, ('vehicle_ttc', 'S_7-d', 'S_7-e')), (305, ('drivable_area', 'S_8-a', 'S_8-c')), (306, ('drivable_area', 'S_8-a', 'S_8-d')), (307, ('drivable_area', 'S_8-b', 'S_8-c')), (308, ('drivable_area', 'S_8-b', 'S_8-d')), (309, ('correct_side', 'S_8-c', 'S_8-d')), (310, ('lane_centering', 'S_10-a', 'S_10-c')), (311, ('correct_side', 'S_10-d', 'S_10-c')), (312, ('correct_side', 'S_10-f', 'S_10-e')), (313, ('drivable_area', 'S_12-a', 'S_12-c')), (314, ('drivable_area', 'S_12-d', 'S_12-a')), (315, ('drivable_area', 'S_12-d', 'S_12-b')), (316, ('drivable_area', 'S_12-d', 'S_12-c')), (317, ('vru_offroad', 'S_13-b', 'S_13-e')), (318, ('vehicle_collision', 'S_14-c', 'S_14-a')), (319, ('vehicle_collision', 'S_14-c', 'S_14-e')), (320, ('correct_side', 'S_15-c', 'S_15-a')), (321, ('correct_side', 'S_15-c', 'S_15-b')), (322, ('vru_offroad', 'S_15-b', 'S_15-d')), (323, ('correct_side', 'S_15-c', 'S_15-d')), (324, ('correct_side', 'S_16-c', 'S_16-a')), (325, ('drivable_area', 'S_19-c', 'S_19-e')), (326, ('vru_acknowledgement', 'S_21-a', 'S_21-d')), (327, ('lane_centering', 'S_21-b', 'S_21-d')), (328, ('correct_side', 'S_22-a', 'S_22-b')), (329, ('correct_side', 'S_22-d', 'S_22-a')), (330, ('vru_acknowledgement', 'S_23-a', 'S_23-b')), (331, ('vru_acknowledgement', 'S_23-a', 'S_23-d')), (332, ('vru_acknowledgement', 'S_23-e', 'S_23-b')), (333, ('correct_side', 'S_23-c', 'S_23-d')), (334, ('vru_acknowledgement', 'S_23-e', 'S_23-d')), (335, ('vehicle_collision', 'S_25-d', 'S_25-c')), (336, ('right_clearance_buffer', 'S_26-b', 'S_26-a')), (337, ('drivable_area', 'S_27-b', 'S_27-d')), (338, ('vehicle_collision', 'S_28-a', 'S_28-c')), (339, ('vehicle_collision', 'S_28-d', 'S_28-b')), (340, ('vehicle_collision', 'S_29-b', 'S_29-a')), (341, ('vehicle_collision', 'S_29-d', 'S_29-a')), (342, ('vehicle_collision', 'S_29-d', 'S_29-e')), (343, ('drivable_area', 'S_30-c', 'S_30-a')), (344, ('drivable_area', 'S_30-d', 'S_30-a')), (345, ('drivable_area', 'S_30-c', 'S_30-b')), (346, ('drivable_area', 'S_30-d', 'S_30-b')), (347, ('drivable_area', 'S_30-c', 'S_30-e')), (348, ('drivable_area', 'S_30-d', 'S_30-e'))]\n"
     ]
    }
   ],
   "source": [
    "print(list(enumerate(incorrect)))"
   ]
  },
  {
   "cell_type": "code",
   "execution_count": null,
   "id": "71e75ac5",
   "metadata": {},
   "outputs": [
    {
     "ename": "AttributeError",
     "evalue": "'Realization' object has no attribute 'ego_state'",
     "output_type": "error",
     "traceback": [
      "\u001b[0;31m---------------------------------------------------------------------------\u001b[0m",
      "\u001b[0;31mAttributeError\u001b[0m                            Traceback (most recent call last)",
      "Cell \u001b[0;32mIn[18], line 16\u001b[0m\n\u001b[1;32m     13\u001b[0m     \u001b[38;5;28;01mif\u001b[39;00m human_traj \u001b[38;5;129;01mis\u001b[39;00m \u001b[38;5;129;01mnot\u001b[39;00m \u001b[38;5;28;01mNone\u001b[39;00m \u001b[38;5;129;01mand\u001b[39;00m model_traj \u001b[38;5;129;01mis\u001b[39;00m \u001b[38;5;129;01mnot\u001b[39;00m \u001b[38;5;28;01mNone\u001b[39;00m:\n\u001b[1;32m     14\u001b[0m         \u001b[38;5;28;01mbreak\u001b[39;00m\n\u001b[0;32m---> 16\u001b[0m anim \u001b[38;5;241m=\u001b[39m \u001b[43mcompare_realizations_gif\u001b[49m\u001b[43m(\u001b[49m\u001b[43mmodel_traj\u001b[49m\u001b[43m,\u001b[49m\u001b[43m \u001b[49m\u001b[43mhuman_traj\u001b[49m\u001b[43m,\u001b[49m\u001b[43m \u001b[49m\u001b[43mreason\u001b[49m\u001b[43m,\u001b[49m\u001b[43m \u001b[49m\u001b[43mmargin\u001b[49m\u001b[38;5;241;43m=\u001b[39;49m\u001b[38;5;241;43m50\u001b[39;49m\u001b[43m)\u001b[49m\n\u001b[1;32m     18\u001b[0m \u001b[38;5;66;03m# play anim in jupyter notebook\u001b[39;00m\n\u001b[1;32m     19\u001b[0m display(HTML(anim\u001b[38;5;241m.\u001b[39mto_jshtml()))\n",
      "File \u001b[0;32m~/rulebook_benchmark/src/rulebook_benchmark/plotting.py:33\u001b[0m, in \u001b[0;36mcompare_realizations_gif\u001b[0;34m(realization_model_pref, realization_human_pref, reason, dpi, interval, margin)\u001b[0m\n\u001b[1;32m     28\u001b[0m     axes[\u001b[38;5;241m1\u001b[39m]\u001b[38;5;241m.\u001b[39madd_patch(Polygon(lane\u001b[38;5;241m.\u001b[39mpolygon\u001b[38;5;241m.\u001b[39mexterior\u001b[38;5;241m.\u001b[39mcoords[:\u001b[38;5;241m-\u001b[39m\u001b[38;5;241m1\u001b[39m], closed\u001b[38;5;241m=\u001b[39m\u001b[38;5;28;01mTrue\u001b[39;00m,\n\u001b[1;32m     29\u001b[0m                               facecolor\u001b[38;5;241m=\u001b[39m\u001b[38;5;124m\"\u001b[39m\u001b[38;5;124mlightgray\u001b[39m\u001b[38;5;124m\"\u001b[39m, edgecolor\u001b[38;5;241m=\u001b[39m\u001b[38;5;124m\"\u001b[39m\u001b[38;5;124mblack\u001b[39m\u001b[38;5;124m\"\u001b[39m, alpha\u001b[38;5;241m=\u001b[39m\u001b[38;5;241m0.5\u001b[39m))\n\u001b[1;32m     32\u001b[0m \u001b[38;5;66;03m# Highlight ego lane\u001b[39;00m\n\u001b[0;32m---> 33\u001b[0m ego_lane1 \u001b[38;5;241m=\u001b[39m \u001b[43mrealization_human_pref\u001b[49m\u001b[38;5;241;43m.\u001b[39;49m\u001b[43mego_state\u001b[49m\u001b[38;5;241m.\u001b[39mlane\n\u001b[1;32m     34\u001b[0m \u001b[38;5;28;01mif\u001b[39;00m ego_lane1 \u001b[38;5;129;01mis\u001b[39;00m \u001b[38;5;129;01mnot\u001b[39;00m \u001b[38;5;28;01mNone\u001b[39;00m:\n\u001b[1;32m     35\u001b[0m     axes[\u001b[38;5;241m0\u001b[39m]\u001b[38;5;241m.\u001b[39madd_patch(Polygon(ego_lane1\u001b[38;5;241m.\u001b[39mpolygon\u001b[38;5;241m.\u001b[39mexterior\u001b[38;5;241m.\u001b[39mcoords[:\u001b[38;5;241m-\u001b[39m\u001b[38;5;241m1\u001b[39m], closed\u001b[38;5;241m=\u001b[39m\u001b[38;5;28;01mTrue\u001b[39;00m,\n\u001b[1;32m     36\u001b[0m                               facecolor\u001b[38;5;241m=\u001b[39m\u001b[38;5;124m\"\u001b[39m\u001b[38;5;124myellow\u001b[39m\u001b[38;5;124m\"\u001b[39m, edgecolor\u001b[38;5;241m=\u001b[39m\u001b[38;5;124m\"\u001b[39m\u001b[38;5;124mblack\u001b[39m\u001b[38;5;124m\"\u001b[39m, alpha\u001b[38;5;241m=\u001b[39m\u001b[38;5;241m0.5\u001b[39m))\n",
      "\u001b[0;31mAttributeError\u001b[0m: 'Realization' object has no attribute 'ego_state'"
     ]
    },
    {
     "data": {
      "image/png": "[encoded data removed]",
      "text/plain": [
       "<Figure size 1200x600 with 2 Axes>"
      ]
     },
     "metadata": {},
     "output_type": "display_data"
    }
   ],
   "source": [
    "from rulebook_benchmark.plotting import compare_realizations_gif\n",
    "reason, human_pref, model_pref = incorrect[273]\n",
    "\n",
    "human_traj = None\n",
    "model_traj = None\n",
    "for t in trajectories:\n",
    "    if human_pref in t[0]:\n",
    "        human_traj = t[1]\n",
    "        \n",
    "    if model_pref in t[0]:\n",
    "        model_traj = t[1]\n",
    "    \n",
    "    if human_traj is not None and model_traj is not None:\n",
    "        break\n",
    "    \n",
    "anim = compare_realizations_gif(model_traj, human_traj, reason, margin=50)\n",
    "\n",
    "# play anim in jupyter notebook\n",
    "display(HTML(anim.to_jshtml()))\n",
    "    "
   ]
  },
  {
   "cell_type": "code",
   "execution_count": null,
   "id": "46215462",
   "metadata": {},
   "outputs": [],
   "source": []
  },
  {
   "cell_type": "code",
   "execution_count": null,
   "id": "1df59588",
   "metadata": {},
   "outputs": [],
   "source": []
  }
 ],
 "metadata": {
  "kernelspec": {
   "display_name": "benchmark",
   "language": "python",
   "name": "python3"
  },
  "language_info": {
   "codemirror_mode": {
    "name": "ipython",
    "version": 3
   },
   "file_extension": ".py",
   "mimetype": "text/x-python",
   "name": "python",
   "nbconvert_exporter": "python",
   "pygments_lexer": "ipython3",
   "version": "3.8.20"
  }
 },
 "nbformat": 4,
 "nbformat_minor": 5
}
